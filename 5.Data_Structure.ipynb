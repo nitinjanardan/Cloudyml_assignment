{
  "nbformat": 4,
  "nbformat_minor": 5,
  "metadata": {
    "kernelspec": {
      "display_name": "Python 3",
      "language": "python",
      "name": "python3"
    },
    "language_info": {
      "codemirror_mode": {
        "name": "ipython",
        "version": 3
      },
      "file_extension": ".py",
      "mimetype": "text/x-python",
      "name": "python",
      "nbconvert_exporter": "python",
      "pygments_lexer": "ipython3",
      "version": "3.8.5"
    },
    "colab": {
      "provenance": []
    }
  },
  "cells": [
    {
      "cell_type": "markdown",
      "metadata": {
        "id": "_JLx43EMJt_S"
      },
      "source": [
        "# <center> <u>Data Structures <u> </center>"
      ],
      "id": "_JLx43EMJt_S"
    },
    {
      "cell_type": "markdown",
      "metadata": {
        "id": "HGIv0240Jt_y"
      },
      "source": [
        "## 1. Lists\n",
        "\n",
        "Reference:- https://www.youtube.com/watch?v=ohCDWZgNIU0\n"
      ],
      "id": "HGIv0240Jt_y"
    },
    {
      "cell_type": "markdown",
      "metadata": {
        "id": "cdOGGSzfJt_0"
      },
      "source": [
        "<p style='text-align: right;'> 1+1+1 = 3 points</p>\n"
      ],
      "id": "cdOGGSzfJt_0"
    },
    {
      "cell_type": "markdown",
      "metadata": {
        "id": "J4hQ0Fm9Jt_2"
      },
      "source": [
        "#### 1.1 Create an empty list with the name ‘a’, print the value of a and type(a).\n"
      ],
      "id": "J4hQ0Fm9Jt_2"
    },
    {
      "cell_type": "code",
      "metadata": {
        "id": "HNysYU3EJt_4"
      },
      "source": [
        "# create empty list, name it 'a'\n",
        "a = []"
      ],
      "id": "HNysYU3EJt_4",
      "execution_count": 6,
      "outputs": []
    },
    {
      "cell_type": "code",
      "metadata": {
        "colab": {
          "base_uri": "https://localhost:8080/"
        },
        "id": "pmz9U8HSJt_9",
        "outputId": "cb69e288-3cab-4a3c-9605-aee47c46526c"
      },
      "source": [
        "# print the value of a\n",
        "print(a)"
      ],
      "id": "pmz9U8HSJt_9",
      "execution_count": 7,
      "outputs": [
        {
          "output_type": "stream",
          "name": "stdout",
          "text": [
            "[]\n"
          ]
        }
      ]
    },
    {
      "cell_type": "code",
      "metadata": {
        "colab": {
          "base_uri": "https://localhost:8080/"
        },
        "id": "jI6qdt6iJuAG",
        "outputId": "6c6001e5-5f04-458b-b77d-c751ea8fbe34"
      },
      "source": [
        "# print the type of a\n",
        "print(type(a))"
      ],
      "id": "jI6qdt6iJuAG",
      "execution_count": 8,
      "outputs": [
        {
          "output_type": "stream",
          "name": "stdout",
          "text": [
            "<class 'list'>\n"
          ]
        }
      ]
    },
    {
      "cell_type": "markdown",
      "metadata": {
        "id": "U1wiVB-NJuAJ"
      },
      "source": [
        "#### 1.2.Create a list , languages = ['R','Python', 'SAS', 'Scala', 42], "
      ],
      "id": "U1wiVB-NJuAJ"
    },
    {
      "cell_type": "markdown",
      "metadata": {
        "id": "byHPKwIcJuAL"
      },
      "source": [
        "<p style='text-align: right;'> 1+1+1+1+1+1+1+1 = 7 points</p>\n"
      ],
      "id": "byHPKwIcJuAL"
    },
    {
      "cell_type": "code",
      "metadata": {
        "id": "YLCOOhGZJuAO"
      },
      "source": [
        "#code here\n",
        "p = ['R' ,'Python' ,'SAS' ,'Scala',42]"
      ],
      "id": "YLCOOhGZJuAO",
      "execution_count": 3,
      "outputs": []
    },
    {
      "cell_type": "markdown",
      "metadata": {
        "id": "vnmsjVJCJuAS"
      },
      "source": [
        "Print the number of elements in the list"
      ],
      "id": "vnmsjVJCJuAS"
    },
    {
      "cell_type": "code",
      "metadata": {
        "colab": {
          "base_uri": "https://localhost:8080/"
        },
        "id": "esC-cDzXJuAT",
        "outputId": "bf362819-2f67-45bc-eb57-2475acd40020"
      },
      "source": [
        "#code here\n",
        "print(len(p))"
      ],
      "id": "esC-cDzXJuAT",
      "execution_count": 4,
      "outputs": [
        {
          "output_type": "stream",
          "name": "stdout",
          "text": [
            "5\n"
          ]
        }
      ]
    },
    {
      "cell_type": "markdown",
      "metadata": {
        "id": "B6HkJ6gDJuAV"
      },
      "source": [
        "Using for loop iterate and print all the elements in the list"
      ],
      "id": "B6HkJ6gDJuAV"
    },
    {
      "cell_type": "code",
      "metadata": {
        "colab": {
          "base_uri": "https://localhost:8080/"
        },
        "id": "HmOVda6cJuAX",
        "outputId": "f800c67e-7791-42d9-d778-41cd71e2701f"
      },
      "source": [
        "#code here\n",
        "p = ['R' ,'Python' ,'SAS' ,'Scala',42]\n",
        "for i in p:\n",
        "  print(i)"
      ],
      "id": "HmOVda6cJuAX",
      "execution_count": 9,
      "outputs": [
        {
          "output_type": "stream",
          "name": "stdout",
          "text": [
            "R\n",
            "Python\n",
            "SAS\n",
            "Scala\n",
            "42\n"
          ]
        }
      ]
    },
    {
      "cell_type": "markdown",
      "metadata": {
        "id": "0mdidRHzJuAZ"
      },
      "source": [
        "Select the second item, 'Python' and store it in a new variable named 'temp'"
      ],
      "id": "0mdidRHzJuAZ"
    },
    {
      "cell_type": "code",
      "metadata": {
        "colab": {
          "base_uri": "https://localhost:8080/"
        },
        "id": "pil0q-j2JuAa",
        "outputId": "c0b60be8-ed47-4a15-c899-c3c27111fa9d"
      },
      "source": [
        "#code here\n",
        "p = ['R' ,'Python' ,'SAS' ,'Scala',42]\n",
        "temp=''\n",
        "for i in range(len(p)):\n",
        "  if(p[i] =='Python'):\n",
        "    temp = p[i]\n",
        "print(temp)\n"
      ],
      "id": "pil0q-j2JuAa",
      "execution_count": 10,
      "outputs": [
        {
          "output_type": "stream",
          "name": "stdout",
          "text": [
            "Python\n"
          ]
        }
      ]
    },
    {
      "cell_type": "markdown",
      "metadata": {
        "id": "GhqYUhGMJuAc"
      },
      "source": [
        "Print the value of temp and type(temp)"
      ],
      "id": "GhqYUhGMJuAc"
    },
    {
      "cell_type": "code",
      "metadata": {
        "colab": {
          "base_uri": "https://localhost:8080/"
        },
        "id": "M3cGgSALJuAd",
        "outputId": "51541ab1-86bd-4246-e71f-91201f340867"
      },
      "source": [
        "#code here\n",
        "print(temp)\n",
        "print(type(temp))"
      ],
      "id": "M3cGgSALJuAd",
      "execution_count": 11,
      "outputs": [
        {
          "output_type": "stream",
          "name": "stdout",
          "text": [
            "Python\n",
            "<class 'str'>\n"
          ]
        }
      ]
    },
    {
      "cell_type": "markdown",
      "metadata": {
        "id": "IR57AR_qJuAe"
      },
      "source": [
        "Using list comprehension, print the last two elemets of list"
      ],
      "id": "IR57AR_qJuAe"
    },
    {
      "cell_type": "code",
      "metadata": {
        "colab": {
          "base_uri": "https://localhost:8080/"
        },
        "id": "kdlpjn9YJuAk",
        "outputId": "684f9992-b174-4907-97cc-5cfd58381c4e"
      },
      "source": [
        "# code here\n",
        "p = ['R' ,'Python' ,'SAS' ,'Scala',42]\n",
        "s =[ i for i in p if i == 'Scala' or i ==42]\n",
        "print(s)"
      ],
      "id": "kdlpjn9YJuAk",
      "execution_count": 12,
      "outputs": [
        {
          "output_type": "stream",
          "name": "stdout",
          "text": [
            "['Scala', 42]\n"
          ]
        }
      ]
    },
    {
      "cell_type": "markdown",
      "metadata": {
        "id": "yVaWXC9sJuAm"
      },
      "source": [
        "Append the element 'Java' in the list"
      ],
      "id": "yVaWXC9sJuAm"
    },
    {
      "cell_type": "code",
      "metadata": {
        "id": "V1lVIXMsJuAn"
      },
      "source": [
        "#code here\n",
        "p = ['R' ,'Python' ,'SAS' ,'Scala',42]\n",
        "p.append('Java')"
      ],
      "id": "V1lVIXMsJuAn",
      "execution_count": 13,
      "outputs": []
    },
    {
      "cell_type": "markdown",
      "metadata": {
        "id": "aoIbDosCJuAo"
      },
      "source": [
        "Remove the element 42 from the list and print the list"
      ],
      "id": "aoIbDosCJuAo"
    },
    {
      "cell_type": "code",
      "metadata": {
        "colab": {
          "base_uri": "https://localhost:8080/"
        },
        "id": "pOhmVm3iJuAp",
        "outputId": "50503143-a03b-4d55-e393-186345bb9245"
      },
      "source": [
        "#code here(\n",
        "p.remove(42)\n",
        "print(p)"
      ],
      "id": "pOhmVm3iJuAp",
      "execution_count": 14,
      "outputs": [
        {
          "output_type": "stream",
          "name": "stdout",
          "text": [
            "['R', 'Python', 'SAS', 'Scala', 'Java']\n"
          ]
        }
      ]
    },
    {
      "cell_type": "markdown",
      "metadata": {
        "id": "BCAScWAmJuAr"
      },
      "source": [
        "#### 1.3. Create a list, colors = [‘Red’, ‘Blue’, ‘White’]"
      ],
      "id": "BCAScWAmJuAr"
    },
    {
      "cell_type": "markdown",
      "metadata": {
        "id": "_hmpxpiVJuAs"
      },
      "source": [
        "<p style='text-align: right;'> 1+1+1+1+1+1+1 = 6 points</p>\n"
      ],
      "id": "_hmpxpiVJuAs"
    },
    {
      "cell_type": "code",
      "metadata": {
        "id": "u-vbRtgEJuAt"
      },
      "source": [
        "#code here\n",
        "colors =['Red','Blue','White']"
      ],
      "id": "u-vbRtgEJuAt",
      "execution_count": 15,
      "outputs": []
    },
    {
      "cell_type": "markdown",
      "metadata": {
        "id": "qylsjBOmJuAu"
      },
      "source": [
        "Append the element 'Black' to colors"
      ],
      "id": "qylsjBOmJuAu"
    },
    {
      "cell_type": "code",
      "metadata": {
        "id": "u8oVMcr1JuAv"
      },
      "source": [
        "#code here\n",
        "colors.append('Black')"
      ],
      "id": "u8oVMcr1JuAv",
      "execution_count": 16,
      "outputs": []
    },
    {
      "cell_type": "markdown",
      "metadata": {
        "id": "7sdgzNKsJuAx"
      },
      "source": [
        "Append the color 'Orange' to second position (index=1) and print the list"
      ],
      "id": "7sdgzNKsJuAx"
    },
    {
      "cell_type": "code",
      "metadata": {
        "id": "TQsXSjxzJuAy"
      },
      "source": [
        "# code here\n",
        "colors.insert(1,'Orange')\n"
      ],
      "id": "TQsXSjxzJuAy",
      "execution_count": 17,
      "outputs": []
    },
    {
      "cell_type": "markdown",
      "metadata": {
        "id": "nz1Xa1BmJuAz"
      },
      "source": [
        "Print the list\n"
      ],
      "id": "nz1Xa1BmJuAz"
    },
    {
      "cell_type": "code",
      "metadata": {
        "colab": {
          "base_uri": "https://localhost:8080/"
        },
        "id": "iF2n9a7DJuA0",
        "outputId": "53d5326e-0e4b-4b0f-f9e9-bcc7116a0627"
      },
      "source": [
        "# code here\n",
        "print(colors)"
      ],
      "id": "iF2n9a7DJuA0",
      "execution_count": 18,
      "outputs": [
        {
          "output_type": "stream",
          "name": "stdout",
          "text": [
            "['Red', 'Orange', 'Blue', 'White', 'Black']\n"
          ]
        }
      ]
    },
    {
      "cell_type": "markdown",
      "metadata": {
        "id": "SG8RE_OzJuA1"
      },
      "source": [
        "Create another list, colors2 = [‘Grey’, ‘Sky Blue’]"
      ],
      "id": "SG8RE_OzJuA1"
    },
    {
      "cell_type": "code",
      "metadata": {
        "id": "M8kBO9JoJuA2"
      },
      "source": [
        "# code here\n",
        "colors2=['Grey','Sky Blue']"
      ],
      "id": "M8kBO9JoJuA2",
      "execution_count": 20,
      "outputs": []
    },
    {
      "cell_type": "markdown",
      "metadata": {
        "id": "RMlI668hJuA3"
      },
      "source": [
        "Add the elements of colors2 to colors using extend function in the list"
      ],
      "id": "RMlI668hJuA3"
    },
    {
      "cell_type": "code",
      "metadata": {
        "id": "_KMGS5WBJuA4"
      },
      "source": [
        "#code here\n",
        "colors.extend(colors2)"
      ],
      "id": "_KMGS5WBJuA4",
      "execution_count": 21,
      "outputs": []
    },
    {
      "cell_type": "markdown",
      "metadata": {
        "id": "GSfLo7YlJuA5"
      },
      "source": [
        "Print len of colors and its elements"
      ],
      "id": "GSfLo7YlJuA5"
    },
    {
      "cell_type": "code",
      "metadata": {
        "colab": {
          "base_uri": "https://localhost:8080/"
        },
        "id": "NOayi2R3JuA6",
        "outputId": "b29ae735-0f26-4c61-977f-1f5600bf648b"
      },
      "source": [
        "# code here\n",
        "print(len(colors))\n",
        "print(colors)\n"
      ],
      "id": "NOayi2R3JuA6",
      "execution_count": 22,
      "outputs": [
        {
          "output_type": "stream",
          "name": "stdout",
          "text": [
            "7\n",
            "['Red', 'Orange', 'Blue', 'White', 'Black', 'Grey', 'Sky Blue']\n"
          ]
        }
      ]
    },
    {
      "cell_type": "markdown",
      "metadata": {
        "id": "CDShXXnjJuA8"
      },
      "source": [
        "Sort the list and print it."
      ],
      "id": "CDShXXnjJuA8"
    },
    {
      "cell_type": "code",
      "metadata": {
        "colab": {
          "base_uri": "https://localhost:8080/"
        },
        "id": "f97xvNCmJuA9",
        "outputId": "3d50f79a-9a00-40a1-8808-65d0e35a953b"
      },
      "source": [
        "# code here\n",
        "colors.sort()\n",
        "print(colors)"
      ],
      "id": "f97xvNCmJuA9",
      "execution_count": 23,
      "outputs": [
        {
          "output_type": "stream",
          "name": "stdout",
          "text": [
            "['Black', 'Blue', 'Grey', 'Orange', 'Red', 'Sky Blue', 'White']\n"
          ]
        }
      ]
    },
    {
      "cell_type": "markdown",
      "metadata": {
        "id": "GMeeKZ-fJuA-"
      },
      "source": [
        "#### 1.4. Create a string, sent = ‘Coronavirus Caused Lockdowns Around The World.”"
      ],
      "id": "GMeeKZ-fJuA-"
    },
    {
      "cell_type": "markdown",
      "metadata": {
        "id": "nUK1CSa1JuA_"
      },
      "source": [
        "<p style='text-align: right;'> 7 points</p>\n"
      ],
      "id": "nUK1CSa1JuA_"
    },
    {
      "cell_type": "code",
      "metadata": {
        "id": "S0B2mbHXJuBA"
      },
      "source": [
        "# code here\n",
        "sent = \"Coronavirus Caused Lockdowns Around The World.\""
      ],
      "id": "S0B2mbHXJuBA",
      "execution_count": 26,
      "outputs": []
    },
    {
      "cell_type": "markdown",
      "metadata": {
        "id": "0VyxaLxPJuBE"
      },
      "source": [
        "Use split function to convert the string into a list of words and save it in variable words and print the same"
      ],
      "id": "0VyxaLxPJuBE"
    },
    {
      "cell_type": "code",
      "metadata": {
        "colab": {
          "base_uri": "https://localhost:8080/"
        },
        "id": "sFV_43jIJuBG",
        "outputId": "6c893f42-582d-4719-c58f-01a9ad69dace"
      },
      "source": [
        "# code here\n",
        "sp = sent.split()\n",
        "print(sp)"
      ],
      "id": "sFV_43jIJuBG",
      "execution_count": 27,
      "outputs": [
        {
          "output_type": "stream",
          "name": "stdout",
          "text": [
            "['Coronavirus', 'Caused', 'Lockdowns', 'Around', 'The', 'World.']\n"
          ]
        }
      ]
    },
    {
      "cell_type": "markdown",
      "metadata": {
        "id": "68vlzKLyJuBH"
      },
      "source": [
        "Using list comprehensions, convert each word in the list to lower case and store it in variable words_lower. \n",
        "Print words_lower"
      ],
      "id": "68vlzKLyJuBH"
    },
    {
      "cell_type": "code",
      "metadata": {
        "colab": {
          "base_uri": "https://localhost:8080/"
        },
        "id": "TG6s-LUSJuBI",
        "outputId": "43f8d402-19e1-40f7-b641-88a855eb5470"
      },
      "source": [
        "# code here\n",
        "words_lower = [i.lower() for i in sp]\n",
        "print(words_lower)"
      ],
      "id": "TG6s-LUSJuBI",
      "execution_count": 28,
      "outputs": [
        {
          "output_type": "stream",
          "name": "stdout",
          "text": [
            "['coronavirus', 'caused', 'lockdowns', 'around', 'the', 'world.']\n"
          ]
        }
      ]
    },
    {
      "cell_type": "markdown",
      "metadata": {
        "id": "Dg72f45VJuBJ"
      },
      "source": [
        "Check whether ‘country’ is in the list"
      ],
      "id": "Dg72f45VJuBJ"
    },
    {
      "cell_type": "code",
      "metadata": {
        "colab": {
          "base_uri": "https://localhost:8080/"
        },
        "id": "lZB1iLkCJuBK",
        "outputId": "df21e698-fb66-467c-fcb6-b485690aa56f"
      },
      "source": [
        "# code here\n",
        "if 'country' in words_lower:\n",
        "  print(True)\n",
        "else:\n",
        "  print(False)"
      ],
      "id": "lZB1iLkCJuBK",
      "execution_count": 29,
      "outputs": [
        {
          "output_type": "stream",
          "name": "stdout",
          "text": [
            "False\n"
          ]
        }
      ]
    },
    {
      "cell_type": "markdown",
      "metadata": {
        "id": "dV_PE9Z7JuBK"
      },
      "source": [
        "Remove the element ‘the’ from the list and print the list."
      ],
      "id": "dV_PE9Z7JuBK"
    },
    {
      "cell_type": "code",
      "metadata": {
        "colab": {
          "base_uri": "https://localhost:8080/"
        },
        "id": "guvHuIXxJuBL",
        "outputId": "b5991774-467d-4277-933b-9de632f7e245"
      },
      "source": [
        "# code here\n",
        "words_lower.remove('the')\n",
        "print(words_lower)"
      ],
      "id": "guvHuIXxJuBL",
      "execution_count": 30,
      "outputs": [
        {
          "output_type": "stream",
          "name": "stdout",
          "text": [
            "['coronavirus', 'caused', 'lockdowns', 'around', 'world.']\n"
          ]
        }
      ]
    },
    {
      "cell_type": "markdown",
      "metadata": {
        "id": "gOOmdkpMJuBL"
      },
      "source": [
        "Select the first 4 words from the list words_lower using slicing and store them in a new variable x4"
      ],
      "id": "gOOmdkpMJuBL"
    },
    {
      "cell_type": "code",
      "metadata": {
        "id": "EJnk_HqTJuBN"
      },
      "source": [
        "#code here\n",
        "x4 =words_lower[:4]"
      ],
      "id": "EJnk_HqTJuBN",
      "execution_count": 32,
      "outputs": []
    },
    {
      "cell_type": "code",
      "metadata": {
        "colab": {
          "base_uri": "https://localhost:8080/"
        },
        "id": "rMC5FUmyJuBO",
        "outputId": "8d051017-d016-4766-d0e8-7ef275edc864"
      },
      "source": [
        "# print x4\n",
        "print(x4)"
      ],
      "id": "rMC5FUmyJuBO",
      "execution_count": 33,
      "outputs": [
        {
          "output_type": "stream",
          "name": "stdout",
          "text": [
            "['coronavirus', 'caused', 'lockdowns', 'around']\n"
          ]
        }
      ]
    },
    {
      "cell_type": "markdown",
      "metadata": {
        "id": "zI5lrgJDJuBP"
      },
      "source": [
        "Convert the list of elements to single string using join function and print it"
      ],
      "id": "zI5lrgJDJuBP"
    },
    {
      "cell_type": "code",
      "metadata": {
        "colab": {
          "base_uri": "https://localhost:8080/"
        },
        "id": "xKPqWzi1JuBQ",
        "outputId": "d3ebcbc4-706e-4ac8-c315-28d0d4c89c72"
      },
      "source": [
        "#code here\n",
        "s =\" \"\n",
        "s.join(words_lower)\n",
        "print(s.join(words_lower))"
      ],
      "id": "xKPqWzi1JuBQ",
      "execution_count": 34,
      "outputs": [
        {
          "output_type": "stream",
          "name": "stdout",
          "text": [
            "coronavirus caused lockdowns around world.\n"
          ]
        }
      ]
    },
    {
      "cell_type": "markdown",
      "metadata": {
        "id": "SFmWIJFfJuBT"
      },
      "source": [
        "## 2. Sets\n",
        "\n",
        "Reference:-https://www.youtube.com/watch?v=sBvaPopWOmQ"
      ],
      "id": "SFmWIJFfJuBT"
    },
    {
      "cell_type": "markdown",
      "metadata": {
        "id": "kknRMk5vJuBU"
      },
      "source": [
        "#### 2.1. Create stud_grades = ['A','A','B','C','C','F']"
      ],
      "id": "kknRMk5vJuBU"
    },
    {
      "cell_type": "markdown",
      "metadata": {
        "id": "6f00C-nkJuBU"
      },
      "source": [
        "<p style='text-align: right;'> 7 points</p>\n"
      ],
      "id": "6f00C-nkJuBU"
    },
    {
      "cell_type": "code",
      "metadata": {
        "id": "FnbkO1EQJuBV"
      },
      "source": [
        "#code here\n",
        "stud_grades = ['A','A','B','C','C','F']"
      ],
      "id": "FnbkO1EQJuBV",
      "execution_count": 35,
      "outputs": []
    },
    {
      "cell_type": "markdown",
      "metadata": {
        "id": "ykjjTGZ6JuBV"
      },
      "source": [
        "Print the len of stud_grades"
      ],
      "id": "ykjjTGZ6JuBV"
    },
    {
      "cell_type": "code",
      "metadata": {
        "colab": {
          "base_uri": "https://localhost:8080/"
        },
        "id": "r6Xt7RE6JuBW",
        "outputId": "e44260c5-03d0-4f65-bb0e-2f79d5d51baf"
      },
      "source": [
        "#code here\n",
        "print(len(stud_grades))"
      ],
      "id": "r6Xt7RE6JuBW",
      "execution_count": 36,
      "outputs": [
        {
          "output_type": "stream",
          "name": "stdout",
          "text": [
            "6\n"
          ]
        }
      ]
    },
    {
      "cell_type": "markdown",
      "metadata": {
        "id": "yjFEXuqDJuBY"
      },
      "source": [
        "Create a new variable, stud_grades_set = set(stud_grades)"
      ],
      "id": "yjFEXuqDJuBY"
    },
    {
      "cell_type": "code",
      "metadata": {
        "id": "eJdBPVQXJuBZ"
      },
      "source": [
        "#code here\n",
        "stud_grades_set = set(stud_grades)"
      ],
      "id": "eJdBPVQXJuBZ",
      "execution_count": 37,
      "outputs": []
    },
    {
      "cell_type": "markdown",
      "metadata": {
        "id": "gv3M0su3JuBZ"
      },
      "source": [
        "Print stud_grades_set. "
      ],
      "id": "gv3M0su3JuBZ"
    },
    {
      "cell_type": "code",
      "metadata": {
        "colab": {
          "base_uri": "https://localhost:8080/"
        },
        "id": "0RsgTMgHJuBa",
        "outputId": "6458b287-39cd-4a81-b561-22685a97ffe6"
      },
      "source": [
        "#code here\n",
        "print(sorted(stud_grades_set))"
      ],
      "id": "0RsgTMgHJuBa",
      "execution_count": 38,
      "outputs": [
        {
          "output_type": "stream",
          "name": "stdout",
          "text": [
            "['A', 'B', 'C', 'F']\n"
          ]
        }
      ]
    },
    {
      "cell_type": "markdown",
      "metadata": {
        "id": "ElAa8TPAJuBb"
      },
      "source": [
        "print the type of stud_grades and stud_grades_set and print their corresponding elements. Try to understand the difference between them."
      ],
      "id": "ElAa8TPAJuBb"
    },
    {
      "cell_type": "code",
      "metadata": {
        "colab": {
          "base_uri": "https://localhost:8080/"
        },
        "id": "VsFmNt0WJuBc",
        "outputId": "caac483c-b681-4f58-80e8-f16f6ec2de82"
      },
      "source": [
        "#code here\n",
        "print(type(stud_grades) , stud_grades)\n",
        "print(type(stud_grades_set) , sorted(stud_grades_set))\n"
      ],
      "id": "VsFmNt0WJuBc",
      "execution_count": 39,
      "outputs": [
        {
          "output_type": "stream",
          "name": "stdout",
          "text": [
            "<class 'list'> ['A', 'A', 'B', 'C', 'C', 'F']\n",
            "<class 'set'> ['A', 'B', 'C', 'F']\n"
          ]
        }
      ]
    },
    {
      "cell_type": "markdown",
      "metadata": {
        "id": "GkYn3L9fJuBd"
      },
      "source": [
        "Add a new element ‘G’ to stud_grades_set"
      ],
      "id": "GkYn3L9fJuBd"
    },
    {
      "cell_type": "code",
      "metadata": {
        "colab": {
          "base_uri": "https://localhost:8080/"
        },
        "id": "6iexh8HzJuBd",
        "outputId": "d9565dc7-67a7-4aa0-f555-45ae639a3859"
      },
      "source": [
        "#code here\n",
        "stud_grades_set.add('G')\n",
        "print(stud_grades_set)"
      ],
      "id": "6iexh8HzJuBd",
      "execution_count": 40,
      "outputs": [
        {
          "output_type": "stream",
          "name": "stdout",
          "text": [
            "{'B', 'F', 'C', 'G', 'A'}\n"
          ]
        }
      ]
    },
    {
      "cell_type": "markdown",
      "metadata": {
        "id": "7WLGYnN3JuBe"
      },
      "source": [
        "Add element 'F' to stud_grades_set. and print it."
      ],
      "id": "7WLGYnN3JuBe"
    },
    {
      "cell_type": "code",
      "metadata": {
        "colab": {
          "base_uri": "https://localhost:8080/"
        },
        "id": "E59Be0HVJuBe",
        "outputId": "00014989-5f08-4ef9-88e7-67eddd0ba052"
      },
      "source": [
        "#code here\n",
        "stud_grades_set.add('G')\n",
        "print(stud_grades_set)\n"
      ],
      "id": "E59Be0HVJuBe",
      "execution_count": 41,
      "outputs": [
        {
          "output_type": "stream",
          "name": "stdout",
          "text": [
            "{'B', 'F', 'C', 'G', 'A'}\n"
          ]
        }
      ]
    },
    {
      "cell_type": "markdown",
      "metadata": {
        "id": "38_hpSXSJuBf"
      },
      "source": [
        "!!Did you notice? set doesn't add an element if it's already present in it, unlike lists."
      ],
      "id": "38_hpSXSJuBf"
    },
    {
      "cell_type": "markdown",
      "metadata": {
        "id": "bHz1OlUFJuBg"
      },
      "source": [
        "Remove ‘F’ from stud_grades_set"
      ],
      "id": "bHz1OlUFJuBg"
    },
    {
      "cell_type": "code",
      "metadata": {
        "colab": {
          "base_uri": "https://localhost:8080/"
        },
        "id": "7zg8zMntJuBh",
        "outputId": "f46c350c-293b-46df-f296-4b1d5e8abf4b"
      },
      "source": [
        "#code here\n",
        "stud_grades_set.remove('F')\n",
        "print(stud_grades_set)\n"
      ],
      "id": "7zg8zMntJuBh",
      "execution_count": 42,
      "outputs": [
        {
          "output_type": "stream",
          "name": "stdout",
          "text": [
            "{'B', 'C', 'G', 'A'}\n"
          ]
        }
      ]
    },
    {
      "cell_type": "markdown",
      "metadata": {
        "id": "6fHas3xpJuBl"
      },
      "source": [
        "Print the elements and the length of stud_grades_set"
      ],
      "id": "6fHas3xpJuBl"
    },
    {
      "cell_type": "code",
      "metadata": {
        "colab": {
          "base_uri": "https://localhost:8080/"
        },
        "id": "kV6KLH3BJuBm",
        "outputId": "2905c656-252e-4bdc-bfbc-797beac549c7"
      },
      "source": [
        "#code here\n",
        "print(stud_grades_set)\n",
        "print(len(stud_grades_set))"
      ],
      "id": "kV6KLH3BJuBm",
      "execution_count": 43,
      "outputs": [
        {
          "output_type": "stream",
          "name": "stdout",
          "text": [
            "{'B', 'C', 'G', 'A'}\n",
            "4\n"
          ]
        }
      ]
    },
    {
      "cell_type": "markdown",
      "metadata": {
        "id": "rxvyOVQmJuBn"
      },
      "source": [
        "#### 2.2. Create colors = [‘red’,’blue’,’orange’], and fruits = [‘orange’,’grapes’,’apples’] "
      ],
      "id": "rxvyOVQmJuBn"
    },
    {
      "cell_type": "markdown",
      "metadata": {
        "id": "sNeiodVJJuBo"
      },
      "source": [
        "<p style='text-align: right;'> 6 points</p>\n"
      ],
      "id": "sNeiodVJJuBo"
    },
    {
      "cell_type": "code",
      "metadata": {
        "id": "1U01Rg-FJuBp"
      },
      "source": [
        "#code here\n",
        "colors = ['red','blue','orange']\n",
        "fruits = ['orange','grapes','apples']\n"
      ],
      "id": "1U01Rg-FJuBp",
      "execution_count": 44,
      "outputs": []
    },
    {
      "cell_type": "markdown",
      "metadata": {
        "id": "k4KQ2p7vJuBq"
      },
      "source": [
        "Print color and fruits"
      ],
      "id": "k4KQ2p7vJuBq"
    },
    {
      "cell_type": "code",
      "metadata": {
        "colab": {
          "base_uri": "https://localhost:8080/"
        },
        "id": "V64Z64X6JuBr",
        "outputId": "6007799f-6e52-4b4c-cb28-884e3efdfd1f"
      },
      "source": [
        "#code here\n",
        "print(colors)\n",
        "print(fruits)"
      ],
      "id": "V64Z64X6JuBr",
      "execution_count": 45,
      "outputs": [
        {
          "output_type": "stream",
          "name": "stdout",
          "text": [
            "['red', 'blue', 'orange']\n",
            "['orange', 'grapes', 'apples']\n"
          ]
        }
      ]
    },
    {
      "cell_type": "markdown",
      "metadata": {
        "id": "_eI-JIhAJuBs"
      },
      "source": [
        "Create colors_set, and fruits_set. (using set() ) and print them"
      ],
      "id": "_eI-JIhAJuBs"
    },
    {
      "cell_type": "code",
      "metadata": {
        "colab": {
          "base_uri": "https://localhost:8080/"
        },
        "id": "ZKjl-wAeJuBs",
        "outputId": "fa4e1a44-3ee6-41ec-a5be-a1ef73acd1e0"
      },
      "source": [
        "#code here\n",
        "colors_set = set(colors)\n",
        "fruit_set = set(fruits)\n",
        "print(colors_set)\n",
        "print(fruit_set)"
      ],
      "id": "ZKjl-wAeJuBs",
      "execution_count": 46,
      "outputs": [
        {
          "output_type": "stream",
          "name": "stdout",
          "text": [
            "{'blue', 'orange', 'red'}\n",
            "{'orange', 'grapes', 'apples'}\n"
          ]
        }
      ]
    },
    {
      "cell_type": "markdown",
      "metadata": {
        "id": "FeW_8DiCJuBt"
      },
      "source": [
        "Find the union of both the sets."
      ],
      "id": "FeW_8DiCJuBt"
    },
    {
      "cell_type": "code",
      "metadata": {
        "colab": {
          "base_uri": "https://localhost:8080/"
        },
        "id": "s_zUuwgdJuBu",
        "outputId": "59667247-8301-4474-dc58-72d98d549338"
      },
      "source": [
        "#code here\n",
        "un = colors_set.union(fruit_set)\n",
        "print(un)"
      ],
      "id": "s_zUuwgdJuBu",
      "execution_count": 47,
      "outputs": [
        {
          "output_type": "stream",
          "name": "stdout",
          "text": [
            "{'orange', 'blue', 'red', 'grapes', 'apples'}\n"
          ]
        }
      ]
    },
    {
      "cell_type": "markdown",
      "metadata": {
        "id": "8q_eMBryJuBv"
      },
      "source": [
        "Find the intersection of both the sets "
      ],
      "id": "8q_eMBryJuBv"
    },
    {
      "cell_type": "code",
      "metadata": {
        "colab": {
          "base_uri": "https://localhost:8080/"
        },
        "id": "jEs8mPyuJuBw",
        "outputId": "16ae468d-b2fc-4ba1-d96a-7cbeb1751a46"
      },
      "source": [
        "#code here\n",
        "inter =  colors_set.intersection(fruit_set)\n",
        "print(inter)"
      ],
      "id": "jEs8mPyuJuBw",
      "execution_count": 48,
      "outputs": [
        {
          "output_type": "stream",
          "name": "stdout",
          "text": [
            "{'orange'}\n"
          ]
        }
      ]
    },
    {
      "cell_type": "markdown",
      "metadata": {
        "id": "23yjcv80JuBx"
      },
      "source": [
        "Find the elements which are Fruits but not colors (using set.difference() )"
      ],
      "id": "23yjcv80JuBx"
    },
    {
      "cell_type": "code",
      "metadata": {
        "colab": {
          "base_uri": "https://localhost:8080/"
        },
        "id": "jH-og1M9JuBy",
        "outputId": "306f1f76-2033-4fc6-fe72-685fae7918ac"
      },
      "source": [
        "#code here\n",
        "fruit_d = fruit_set.difference(colors_set)\n",
        "print(fruit_d)"
      ],
      "id": "jH-og1M9JuBy",
      "execution_count": 49,
      "outputs": [
        {
          "output_type": "stream",
          "name": "stdout",
          "text": [
            "{'grapes', 'apples'}\n"
          ]
        }
      ]
    },
    {
      "cell_type": "markdown",
      "metadata": {
        "id": "3gvKDLTMJuBz"
      },
      "source": [
        "## 3. TUPLES\n",
        "\n",
        "Reference:-https://www.youtube.com/watch?v=NI26dqhs2Rk"
      ],
      "id": "3gvKDLTMJuBz"
    },
    {
      "cell_type": "markdown",
      "metadata": {
        "id": "VOyqEf80JuB1"
      },
      "source": [
        "#### 3.1 . Create temp = [17, ’Virat’, 50.0]"
      ],
      "id": "VOyqEf80JuB1"
    },
    {
      "cell_type": "markdown",
      "metadata": {
        "id": "6Id-qbjsJuB2"
      },
      "source": [
        "<p style='text-align: right;'> 7 points</p>\n"
      ],
      "id": "6Id-qbjsJuB2"
    },
    {
      "cell_type": "code",
      "metadata": {
        "id": "xG7D-WdLJuB3"
      },
      "source": [
        "#code here\n",
        "temp = [17, 'Virat', 50.0]"
      ],
      "id": "xG7D-WdLJuB3",
      "execution_count": 50,
      "outputs": []
    },
    {
      "cell_type": "markdown",
      "metadata": {
        "id": "i3E0NXbYJuB4"
      },
      "source": [
        "Iterate through temp and print all the items in temp"
      ],
      "id": "i3E0NXbYJuB4"
    },
    {
      "cell_type": "code",
      "metadata": {
        "colab": {
          "base_uri": "https://localhost:8080/"
        },
        "id": "YkniTF6iJuB4",
        "outputId": "fb4afc17-8c4f-4406-e63d-cc703eec3a75"
      },
      "source": [
        "#code here\n",
        "for i in temp:\n",
        "  print(i)\n"
      ],
      "id": "YkniTF6iJuB4",
      "execution_count": 51,
      "outputs": [
        {
          "output_type": "stream",
          "name": "stdout",
          "text": [
            "17\n",
            "Virat\n",
            "50.0\n"
          ]
        }
      ]
    },
    {
      "cell_type": "markdown",
      "metadata": {
        "id": "VKrmsG9mJuB5"
      },
      "source": [
        "replace first element with 11 in temp"
      ],
      "id": "VKrmsG9mJuB5"
    },
    {
      "cell_type": "code",
      "metadata": {
        "colab": {
          "base_uri": "https://localhost:8080/"
        },
        "id": "svrAdVZvJuB6",
        "outputId": "e191df5e-4a28-4713-90b1-ffc3897f021a"
      },
      "source": [
        "#code here\n",
        "for i in range(len(temp)):\n",
        "  if temp[i] == 17:\n",
        "    temp[i] =11\n",
        "  print(temp[i])\n"
      ],
      "id": "svrAdVZvJuB6",
      "execution_count": 52,
      "outputs": [
        {
          "output_type": "stream",
          "name": "stdout",
          "text": [
            "11\n",
            "Virat\n",
            "50.0\n"
          ]
        }
      ]
    },
    {
      "cell_type": "markdown",
      "metadata": {
        "id": "LbuabT8UJuB7"
      },
      "source": [
        "Set temp1 = tuple(temp)"
      ],
      "id": "LbuabT8UJuB7"
    },
    {
      "cell_type": "code",
      "metadata": {
        "colab": {
          "base_uri": "https://localhost:8080/"
        },
        "id": "ldTC9VGJJuB8",
        "outputId": "71b98f16-5868-4362-a2a4-e0a7e60aab76"
      },
      "source": [
        "#code here\n",
        "temp1 = tuple(temp)\n",
        "print(temp1)\n"
      ],
      "id": "ldTC9VGJJuB8",
      "execution_count": 53,
      "outputs": [
        {
          "output_type": "stream",
          "name": "stdout",
          "text": [
            "(11, 'Virat', 50.0)\n"
          ]
        }
      ]
    },
    {
      "cell_type": "markdown",
      "metadata": {
        "id": "jNQvwr78JuB9"
      },
      "source": [
        "Iterate through temp1 and print all the items in temp1. "
      ],
      "id": "jNQvwr78JuB9"
    },
    {
      "cell_type": "code",
      "metadata": {
        "colab": {
          "base_uri": "https://localhost:8080/"
        },
        "id": "-og7W6p-JuB9",
        "outputId": "6f1fb63a-b731-4332-d364-4db7acedbcd8"
      },
      "source": [
        "#code here\n",
        "for i in temp1:\n",
        "  print(i)\n"
      ],
      "id": "-og7W6p-JuB9",
      "execution_count": 54,
      "outputs": [
        {
          "output_type": "stream",
          "name": "stdout",
          "text": [
            "11\n",
            "Virat\n",
            "50.0\n"
          ]
        }
      ]
    },
    {
      "cell_type": "markdown",
      "metadata": {
        "id": "ThfbrD6jJuCJ"
      },
      "source": [
        "replace first element with 17 in temp1"
      ],
      "id": "ThfbrD6jJuCJ"
    },
    {
      "cell_type": "code",
      "metadata": {
        "colab": {
          "base_uri": "https://localhost:8080/",
          "height": 217
        },
        "id": "xWUJvtKMJuCK",
        "outputId": "8506e807-ce1a-486b-9161-a17d1cb10bd7"
      },
      "source": [
        "#code here\n",
        "for i in range(len(temp1)):\n",
        "  if (temp1[i] ==11):\n",
        "    temp1[i] = 17\n",
        "  print(temp1)\n"
      ],
      "id": "xWUJvtKMJuCK",
      "execution_count": 55,
      "outputs": [
        {
          "output_type": "error",
          "ename": "TypeError",
          "evalue": "ignored",
          "traceback": [
            "\u001b[0;31m---------------------------------------------------------------------------\u001b[0m",
            "\u001b[0;31mTypeError\u001b[0m                                 Traceback (most recent call last)",
            "\u001b[0;32m<ipython-input-55-9d2c25393dcc>\u001b[0m in \u001b[0;36m<cell line: 2>\u001b[0;34m()\u001b[0m\n\u001b[1;32m      2\u001b[0m \u001b[0;32mfor\u001b[0m \u001b[0mi\u001b[0m \u001b[0;32min\u001b[0m \u001b[0mrange\u001b[0m\u001b[0;34m(\u001b[0m\u001b[0mlen\u001b[0m\u001b[0;34m(\u001b[0m\u001b[0mtemp1\u001b[0m\u001b[0;34m)\u001b[0m\u001b[0;34m)\u001b[0m\u001b[0;34m:\u001b[0m\u001b[0;34m\u001b[0m\u001b[0;34m\u001b[0m\u001b[0m\n\u001b[1;32m      3\u001b[0m   \u001b[0;32mif\u001b[0m \u001b[0;34m(\u001b[0m\u001b[0mtemp1\u001b[0m\u001b[0;34m[\u001b[0m\u001b[0mi\u001b[0m\u001b[0;34m]\u001b[0m \u001b[0;34m==\u001b[0m\u001b[0;36m11\u001b[0m\u001b[0;34m)\u001b[0m\u001b[0;34m:\u001b[0m\u001b[0;34m\u001b[0m\u001b[0;34m\u001b[0m\u001b[0m\n\u001b[0;32m----> 4\u001b[0;31m     \u001b[0mtemp1\u001b[0m\u001b[0;34m[\u001b[0m\u001b[0mi\u001b[0m\u001b[0;34m]\u001b[0m \u001b[0;34m=\u001b[0m \u001b[0;36m17\u001b[0m\u001b[0;34m\u001b[0m\u001b[0;34m\u001b[0m\u001b[0m\n\u001b[0m\u001b[1;32m      5\u001b[0m   \u001b[0mprint\u001b[0m\u001b[0;34m(\u001b[0m\u001b[0mtemp1\u001b[0m\u001b[0;34m)\u001b[0m\u001b[0;34m\u001b[0m\u001b[0;34m\u001b[0m\u001b[0m\n",
            "\u001b[0;31mTypeError\u001b[0m: 'tuple' object does not support item assignment"
          ]
        }
      ]
    },
    {
      "cell_type": "markdown",
      "metadata": {
        "id": "Ged9HYM0JuCL"
      },
      "source": [
        "<b>Oops!! You got an error. Hey Don't worry! Its because Once a tuple is created, you cannot change its values unlike list.</b>"
      ],
      "id": "Ged9HYM0JuCL"
    },
    {
      "cell_type": "markdown",
      "metadata": {
        "id": "F3ajcVouJuCM"
      },
      "source": [
        "#### 3.2 . Create city = (\"Bangalore\", 28.9949521, 72)"
      ],
      "id": "F3ajcVouJuCM"
    },
    {
      "cell_type": "markdown",
      "metadata": {
        "id": "48I68b-iJuCN"
      },
      "source": [
        "<p style='text-align: right;'> 6 points</p>\n"
      ],
      "id": "48I68b-iJuCN"
    },
    {
      "cell_type": "code",
      "metadata": {
        "id": "YVpP5cO5JuCN"
      },
      "source": [
        "#code here\n",
        "city = (\"Bangalore\", 28.9949521, 72)"
      ],
      "id": "YVpP5cO5JuCN",
      "execution_count": 56,
      "outputs": []
    },
    {
      "cell_type": "markdown",
      "metadata": {
        "id": "n8lSFTAmJuCO"
      },
      "source": [
        "Print first element of city"
      ],
      "id": "n8lSFTAmJuCO"
    },
    {
      "cell_type": "code",
      "metadata": {
        "id": "FHenyxZTJuCP",
        "colab": {
          "base_uri": "https://localhost:8080/"
        },
        "outputId": "da2704ca-2b42-4848-eb24-f1517be3640e"
      },
      "source": [
        "#code here\n",
        "print(city[0])"
      ],
      "id": "FHenyxZTJuCP",
      "execution_count": 57,
      "outputs": [
        {
          "output_type": "stream",
          "name": "stdout",
          "text": [
            "Bangalore\n"
          ]
        }
      ]
    },
    {
      "cell_type": "markdown",
      "metadata": {
        "id": "DCmloL5GJuCQ"
      },
      "source": [
        "Create city2 = (‘Chennai’, 30.01, 74)"
      ],
      "id": "DCmloL5GJuCQ"
    },
    {
      "cell_type": "code",
      "metadata": {
        "id": "kk6LAVskJuCR"
      },
      "source": [
        "#code here\n",
        "city2 = (\"Chennai\", 30.01, 74)"
      ],
      "id": "kk6LAVskJuCR",
      "execution_count": 58,
      "outputs": []
    },
    {
      "cell_type": "markdown",
      "metadata": {
        "id": "hIytGsEYJuCS"
      },
      "source": [
        "Create cities which consist of city and city2"
      ],
      "id": "hIytGsEYJuCS"
    },
    {
      "cell_type": "code",
      "metadata": {
        "id": "wmif-JpCJuCY"
      },
      "source": [
        "#code here\n",
        "cities = (city,city2)"
      ],
      "id": "wmif-JpCJuCY",
      "execution_count": 59,
      "outputs": []
    },
    {
      "cell_type": "markdown",
      "metadata": {
        "id": "IKHFrVdnJuCa"
      },
      "source": [
        "Print cities"
      ],
      "id": "IKHFrVdnJuCa"
    },
    {
      "cell_type": "code",
      "metadata": {
        "id": "QJEN2yj9JuCd",
        "colab": {
          "base_uri": "https://localhost:8080/"
        },
        "outputId": "c63144d9-78c3-4399-fcc2-4af81439860f"
      },
      "source": [
        "#code here\n",
        "print(cities)\n"
      ],
      "id": "QJEN2yj9JuCd",
      "execution_count": 60,
      "outputs": [
        {
          "output_type": "stream",
          "name": "stdout",
          "text": [
            "(('Bangalore', 28.9949521, 72), ('Chennai', 30.01, 74))\n"
          ]
        }
      ]
    },
    {
      "cell_type": "markdown",
      "metadata": {
        "id": "kKNhbdq5JuCe"
      },
      "source": [
        "Print type of first element in cities"
      ],
      "id": "kKNhbdq5JuCe"
    },
    {
      "cell_type": "code",
      "metadata": {
        "id": "cH_M6ErmJuCf",
        "colab": {
          "base_uri": "https://localhost:8080/"
        },
        "outputId": "9aabdd92-e269-4cfb-94ac-65d248c5222d"
      },
      "source": [
        "#code here\n",
        "print(type(cities[0]))"
      ],
      "id": "cH_M6ErmJuCf",
      "execution_count": 61,
      "outputs": [
        {
          "output_type": "stream",
          "name": "stdout",
          "text": [
            "<class 'tuple'>\n"
          ]
        }
      ]
    },
    {
      "cell_type": "markdown",
      "metadata": {
        "id": "Msmc8d2LJuCg"
      },
      "source": [
        "print the type of cities\n"
      ],
      "id": "Msmc8d2LJuCg"
    },
    {
      "cell_type": "code",
      "metadata": {
        "id": "cP3vo0rcJuCh",
        "colab": {
          "base_uri": "https://localhost:8080/"
        },
        "outputId": "178f9bb2-1e9e-41aa-b8ce-b34ba72a35df"
      },
      "source": [
        "#code here\n",
        "print(type(cities))"
      ],
      "id": "cP3vo0rcJuCh",
      "execution_count": 62,
      "outputs": [
        {
          "output_type": "stream",
          "name": "stdout",
          "text": [
            "<class 'tuple'>\n"
          ]
        }
      ]
    },
    {
      "cell_type": "markdown",
      "metadata": {
        "id": "mYrmOLH8JuCi"
      },
      "source": [
        "Hey that implies you made a nested tuples!!"
      ],
      "id": "mYrmOLH8JuCi"
    },
    {
      "cell_type": "markdown",
      "metadata": {
        "id": "3ag68XCwJuCk"
      },
      "source": [
        "## 4. DICT\n",
        "\n",
        "Reference:-https://www.youtube.com/watch?v=XCcpzWs-CI4"
      ],
      "id": "3ag68XCwJuCk"
    },
    {
      "cell_type": "markdown",
      "metadata": {
        "id": "v__37B-KJuCo"
      },
      "source": [
        "<p style='text-align: right;'> 11 points</p>\n"
      ],
      "id": "v__37B-KJuCo"
    },
    {
      "cell_type": "markdown",
      "metadata": {
        "id": "8vbasEnvJuCr"
      },
      "source": [
        "#### 4.1 Create a dictionary d = {\"actor\":\"amir\",\"animal\":\"cat\",\"earth\":2,\"list\":[23,32,12]}"
      ],
      "id": "8vbasEnvJuCr"
    },
    {
      "cell_type": "code",
      "metadata": {
        "id": "RlD3uJnAJuCs"
      },
      "source": [
        "#code here\n",
        "d = {\"actor\":\"amir\",\"animal\":\"cat\",\"earth\":2,\"list\":[23,32,12]}"
      ],
      "id": "RlD3uJnAJuCs",
      "execution_count": 64,
      "outputs": []
    },
    {
      "cell_type": "markdown",
      "metadata": {
        "id": "FQeO5wANJuCs"
      },
      "source": [
        "Print the value of d[0]"
      ],
      "id": "FQeO5wANJuCs"
    },
    {
      "cell_type": "code",
      "metadata": {
        "id": "tS917HbcJuCt",
        "colab": {
          "base_uri": "https://localhost:8080/",
          "height": 183
        },
        "outputId": "0dd8e9bc-6f1a-4940-91e6-6e2b53baffaf"
      },
      "source": [
        "#code here\n",
        "print(d[0])\n"
      ],
      "id": "tS917HbcJuCt",
      "execution_count": 65,
      "outputs": [
        {
          "output_type": "error",
          "ename": "KeyError",
          "evalue": "ignored",
          "traceback": [
            "\u001b[0;31m---------------------------------------------------------------------------\u001b[0m",
            "\u001b[0;31mKeyError\u001b[0m                                  Traceback (most recent call last)",
            "\u001b[0;32m<ipython-input-65-ca7d9023e2b8>\u001b[0m in \u001b[0;36m<cell line: 2>\u001b[0;34m()\u001b[0m\n\u001b[1;32m      1\u001b[0m \u001b[0;31m#code here\u001b[0m\u001b[0;34m\u001b[0m\u001b[0;34m\u001b[0m\u001b[0m\n\u001b[0;32m----> 2\u001b[0;31m \u001b[0mprint\u001b[0m\u001b[0;34m(\u001b[0m\u001b[0md\u001b[0m\u001b[0;34m[\u001b[0m\u001b[0;36m0\u001b[0m\u001b[0;34m]\u001b[0m\u001b[0;34m)\u001b[0m\u001b[0;34m\u001b[0m\u001b[0;34m\u001b[0m\u001b[0m\n\u001b[0m",
            "\u001b[0;31mKeyError\u001b[0m: 0"
          ]
        }
      ]
    },
    {
      "cell_type": "markdown",
      "metadata": {
        "id": "VacX-cqqJuCu"
      },
      "source": [
        "<b>Oops!! again an error. again a fun fact. Dictionary return the value for key if key is in the dictionary, else throws KeyError\n",
        "and we don't have key 0 here :( </b>"
      ],
      "id": "VacX-cqqJuCu"
    },
    {
      "cell_type": "markdown",
      "metadata": {
        "id": "x0oljUCqJuCv"
      },
      "source": [
        "Store the value of d[‘actor’] to a new variable actor."
      ],
      "id": "x0oljUCqJuCv"
    },
    {
      "cell_type": "code",
      "metadata": {
        "id": "sUMRUccOJuCw",
        "colab": {
          "base_uri": "https://localhost:8080/"
        },
        "outputId": "ff84aed6-532c-4f85-87b2-4e6de31fec5f"
      },
      "source": [
        "#code here\n",
        "print(d['actor'])"
      ],
      "id": "sUMRUccOJuCw",
      "execution_count": 66,
      "outputs": [
        {
          "output_type": "stream",
          "name": "stdout",
          "text": [
            "amir\n"
          ]
        }
      ]
    },
    {
      "cell_type": "markdown",
      "metadata": {
        "id": "KMNkS7IRJuCw"
      },
      "source": [
        "Print the type of actor"
      ],
      "id": "KMNkS7IRJuCw"
    },
    {
      "cell_type": "code",
      "metadata": {
        "id": "QM5ib4ulJuCx",
        "colab": {
          "base_uri": "https://localhost:8080/"
        },
        "outputId": "94dc5107-20f1-459d-8b75-75eb3927aed5"
      },
      "source": [
        "#code here\n",
        "print(type(d['actor']))"
      ],
      "id": "QM5ib4ulJuCx",
      "execution_count": 67,
      "outputs": [
        {
          "output_type": "stream",
          "name": "stdout",
          "text": [
            "<class 'str'>\n"
          ]
        }
      ]
    },
    {
      "cell_type": "markdown",
      "metadata": {
        "id": "UEC6NEMLJuCy"
      },
      "source": [
        "Store the value of d[‘list’] in new variable l. "
      ],
      "id": "UEC6NEMLJuCy"
    },
    {
      "cell_type": "code",
      "metadata": {
        "id": "wM6zwwM7JuCz",
        "colab": {
          "base_uri": "https://localhost:8080/"
        },
        "outputId": "acd30f00-bb6f-4f93-8151-d54adf3f3493"
      },
      "source": [
        "#code here\n",
        "l = d['list']\n",
        "print(l)"
      ],
      "id": "wM6zwwM7JuCz",
      "execution_count": 68,
      "outputs": [
        {
          "output_type": "stream",
          "name": "stdout",
          "text": [
            "[23, 32, 12]\n"
          ]
        }
      ]
    },
    {
      "cell_type": "markdown",
      "metadata": {
        "id": "YUDxE7xSJuC0"
      },
      "source": [
        "Print the type of l. "
      ],
      "id": "YUDxE7xSJuC0"
    },
    {
      "cell_type": "code",
      "metadata": {
        "id": "t9lMJCFHJuC3",
        "colab": {
          "base_uri": "https://localhost:8080/"
        },
        "outputId": "5ab12b72-4542-4601-b1c6-769ebd0e87b0"
      },
      "source": [
        "#code here\n",
        "print(type(l))"
      ],
      "id": "t9lMJCFHJuC3",
      "execution_count": 69,
      "outputs": [
        {
          "output_type": "stream",
          "name": "stdout",
          "text": [
            "<class 'list'>\n"
          ]
        }
      ]
    },
    {
      "cell_type": "markdown",
      "metadata": {
        "id": "WJFdlyv8JuC4"
      },
      "source": [
        "Create d1 = { ‘singer’ : ‘Kr$na’ , ‘album’: ‘Still here’, ‘genre’ : ‘hip-hop’}"
      ],
      "id": "WJFdlyv8JuC4"
    },
    {
      "cell_type": "code",
      "metadata": {
        "id": "S1qWzswmJuC5"
      },
      "source": [
        "#code here\n",
        "d1 = {'singer':'Kr$na','album':'Still here','genre':'hip-hop'}"
      ],
      "id": "S1qWzswmJuC5",
      "execution_count": 70,
      "outputs": []
    },
    {
      "cell_type": "markdown",
      "metadata": {
        "id": "M4nYslY-JuC6"
      },
      "source": [
        "Merge d1 into d."
      ],
      "id": "M4nYslY-JuC6"
    },
    {
      "cell_type": "code",
      "metadata": {
        "id": "7wtp5PJLJuC7",
        "colab": {
          "base_uri": "https://localhost:8080/"
        },
        "outputId": "ec1d328a-7a98-4231-997a-d2b780793f5b"
      },
      "source": [
        "#code here\n",
        "d = d.copy()\n",
        "for key, value in d1.items():\n",
        "    d[key] = value\n",
        "print(d)"
      ],
      "id": "7wtp5PJLJuC7",
      "execution_count": 71,
      "outputs": [
        {
          "output_type": "stream",
          "name": "stdout",
          "text": [
            "{'actor': 'amir', 'animal': 'cat', 'earth': 2, 'list': [23, 32, 12], 'singer': 'Kr$na', 'album': 'Still here', 'genre': 'hip-hop'}\n"
          ]
        }
      ]
    },
    {
      "cell_type": "markdown",
      "metadata": {
        "id": "3vuFzB9xJuC8"
      },
      "source": [
        "print d"
      ],
      "id": "3vuFzB9xJuC8"
    },
    {
      "cell_type": "code",
      "metadata": {
        "id": "48srWLnOJuC9",
        "colab": {
          "base_uri": "https://localhost:8080/"
        },
        "outputId": "a18f9431-6058-496b-83b7-e0885ee53766"
      },
      "source": [
        "#code here\n",
        "print(d)"
      ],
      "id": "48srWLnOJuC9",
      "execution_count": 72,
      "outputs": [
        {
          "output_type": "stream",
          "name": "stdout",
          "text": [
            "{'actor': 'amir', 'animal': 'cat', 'earth': 2, 'list': [23, 32, 12], 'singer': 'Kr$na', 'album': 'Still here', 'genre': 'hip-hop'}\n"
          ]
        }
      ]
    },
    {
      "cell_type": "markdown",
      "metadata": {
        "id": "JdouZo4AJuC-"
      },
      "source": [
        "Print all the keys in d"
      ],
      "id": "JdouZo4AJuC-"
    },
    {
      "cell_type": "code",
      "metadata": {
        "id": "g1z2AxmRJuC-",
        "colab": {
          "base_uri": "https://localhost:8080/"
        },
        "outputId": "b8fbdabd-0c50-43db-a680-50d05e82dbcc"
      },
      "source": [
        "#code here\n",
        "print(d.keys())"
      ],
      "id": "g1z2AxmRJuC-",
      "execution_count": 73,
      "outputs": [
        {
          "output_type": "stream",
          "name": "stdout",
          "text": [
            "dict_keys(['actor', 'animal', 'earth', 'list', 'singer', 'album', 'genre'])\n"
          ]
        }
      ]
    },
    {
      "cell_type": "markdown",
      "metadata": {
        "id": "6yPdEM9bJuDA"
      },
      "source": [
        "Print all the values in d"
      ],
      "id": "6yPdEM9bJuDA"
    },
    {
      "cell_type": "code",
      "metadata": {
        "id": "G---9OYsJuDC",
        "colab": {
          "base_uri": "https://localhost:8080/"
        },
        "outputId": "10ef287e-9cd8-4e5c-dac0-96f38a04a681"
      },
      "source": [
        "#code here\n",
        "print(d.values())"
      ],
      "id": "G---9OYsJuDC",
      "execution_count": 74,
      "outputs": [
        {
          "output_type": "stream",
          "name": "stdout",
          "text": [
            "dict_values(['amir', 'cat', 2, [23, 32, 12], 'Kr$na', 'Still here', 'hip-hop'])\n"
          ]
        }
      ]
    },
    {
      "cell_type": "markdown",
      "metadata": {
        "id": "kFjCaJ-9JuDF"
      },
      "source": [
        "Iterate over d, and print each key, value pair as given in output"
      ],
      "id": "kFjCaJ-9JuDF"
    },
    {
      "cell_type": "code",
      "metadata": {
        "id": "PgB-kIz4JuDG",
        "outputId": "9e26634c-747c-48dd-ecbf-25773c154a0c",
        "colab": {
          "base_uri": "https://localhost:8080/"
        }
      },
      "source": [
        "#code here\n",
        "for key,value in d.items():\n",
        "  print(\"{} -----> {}\".format(key,value))"
      ],
      "id": "PgB-kIz4JuDG",
      "execution_count": 77,
      "outputs": [
        {
          "output_type": "stream",
          "name": "stdout",
          "text": [
            "actor -----> amir\n",
            "animal -----> cat\n",
            "earth -----> 2\n",
            "list -----> [23, 32, 12]\n",
            "singer -----> Kr$na\n",
            "album -----> Still here\n",
            "genre -----> hip-hop\n"
          ]
        }
      ]
    },
    {
      "cell_type": "markdown",
      "metadata": {
        "id": "Xr3VMY8tJuDI"
      },
      "source": [
        "\n",
        "Create a string, sent = ‘Coronavirus Caused Lockdowns Around The World.”\n",
        "\n",
        "Count the number of occurences of charachters in string named \"sent\" using dictionary and print the same.\n"
      ],
      "id": "Xr3VMY8tJuDI"
    },
    {
      "cell_type": "code",
      "metadata": {
        "id": "g7U8UWxHJuDJ",
        "colab": {
          "base_uri": "https://localhost:8080/"
        },
        "outputId": "c8a25056-9d83-4123-8ee9-ef7862342f13"
      },
      "source": [
        "#code here\n",
        "sent = \"Coronavirus Caused Lockdowns Around The World.\"\n",
        "freq = {}\n",
        "for c in set(sent):\n",
        "  freq[c] = sent.count(c)\n",
        "print(freq)\n"
      ],
      "id": "g7U8UWxHJuDJ",
      "execution_count": 78,
      "outputs": [
        {
          "output_type": "stream",
          "name": "stdout",
          "text": [
            "{'s': 3, 'a': 2, 'T': 1, 'u': 3, 'A': 1, 'e': 2, 'k': 1, 'r': 4, 'C': 2, 'o': 6, 'i': 1, 'W': 1, 'd': 4, '.': 1, 'v': 1, 'L': 1, 'l': 1, 'n': 3, ' ': 5, 'h': 1, 'w': 1, 'c': 1}\n"
          ]
        }
      ]
    },
    {
      "cell_type": "markdown",
      "metadata": {
        "id": "G5-aZopBJuDK"
      },
      "source": [
        "# --------------------------------------------------------------------"
      ],
      "id": "G5-aZopBJuDK"
    },
    {
      "cell_type": "markdown",
      "metadata": {
        "id": "lOb27G0aJuDL"
      },
      "source": [
        "# Hurray!! Second milestone completed. The next challenge is waiting for you :)\n",
        "\n",
        "# --------------------------------------------------------------------\n",
        "\n",
        "-----------------\n",
        "# FeedBack\n",
        "We hope you’ve enjoyed this course so far. We’re committed to help you use \"AI for All\" course to its full potential, so that you have a great learning experience. And that’s why we need your help in form of a feedback here.\n",
        "\n",
        "Please fill this feedback form  https://zfrmz.in/MtRG5oWXBdesm6rmSM7N"
      ],
      "id": "lOb27G0aJuDL"
    }
  ]
}