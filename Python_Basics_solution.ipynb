{
  "nbformat": 4,
  "nbformat_minor": 0,
  "metadata": {
    "kernelspec": {
      "display_name": "Python 3",
      "language": "python",
      "name": "python3"
    },
    "language_info": {
      "codemirror_mode": {
        "name": "ipython",
        "version": 3
      },
      "file_extension": ".py",
      "mimetype": "text/x-python",
      "name": "python",
      "nbconvert_exporter": "python",
      "pygments_lexer": "ipython3",
      "version": "3.8.5"
    },
    "colab": {
      "name": "Python Basics_solution.ipynb",
      "provenance": [],
      "collapsed_sections": [
        "ToyYED5Exz6x",
        "_z0EgjWaxz6y"
      ]
    }
  },
  "cells": [
    {
      "cell_type": "markdown",
      "metadata": {
        "id": "l5pwKUbAxz1W"
      },
      "source": [
        "# <center><u> Python basics</u></center>\n",
        "![image.png](attachment:image.png)"
      ]
    },
    {
      "cell_type": "markdown",
      "metadata": {
        "id": "4tItK3Vxxz1s"
      },
      "source": [
        "Python is emerging as the popular language used more in data science applications.\n",
        "\n",
        "Take the case of the tech giant Google that has created the deep learning framework called tensorflow – Python is the primary language used for creating this framework. Its footprint has continued to increase in the environment promoted by Netflix. Production engineers at Facebook and Khan Academy have for long been using it as a prominent language in their environment.\n",
        "\n",
        "Python became the most popular language in the data science world.\n",
        "So what are you waiting for? Lets start learning python basic as your first assignment.\n",
        "\n",
        "\n",
        "Add-on Reference: https://youtu.be/HGOBQPFzWKo\n",
        "\n",
        "Add-on reference: https://youtu.be/8DvywoWv6fI\n",
        "\n",
        "\n",
        "## Variable declaration"
      ]
    },
    {
      "cell_type": "markdown",
      "metadata": {
        "id": "ivnnTzuwxz1v"
      },
      "source": [
        "Covers the topic of variable declaration and type of variables\n",
        "\n",
        "reference:- https://youtu.be/RVYY7zMiPbg\n",
        "\n",
        "<p style='text-align: right;'> 1+1+1+1+1 = 5 points</p>\n"
      ]
    },
    {
      "cell_type": "code",
      "metadata": {
        "id": "RltVsXtLxz1x"
      },
      "source": [
        "# declare two variables, a = 5, b = 'city'\n",
        "a = 5\n",
        "b = 'city'"
      ],
      "execution_count": 2,
      "outputs": []
    },
    {
      "cell_type": "code",
      "metadata": {
        "colab": {
          "base_uri": "https://localhost:8080/"
        },
        "id": "YtgVY-fixz17",
        "outputId": "6a153947-b407-4363-b418-b0dda23e7c4d"
      },
      "source": [
        "# print type of a\n",
        "print(type(a))"
      ],
      "execution_count": 3,
      "outputs": [
        {
          "output_type": "stream",
          "name": "stdout",
          "text": [
            "<class 'int'>\n"
          ]
        }
      ]
    },
    {
      "cell_type": "code",
      "metadata": {
        "colab": {
          "base_uri": "https://localhost:8080/"
        },
        "id": "HUmoe5hIxz18",
        "outputId": "eb1d30b7-dc27-4e32-fb0b-e4976ae67c46"
      },
      "source": [
        "# print type of b\n",
        "print(type(b))"
      ],
      "execution_count": 4,
      "outputs": [
        {
          "output_type": "stream",
          "name": "stdout",
          "text": [
            "<class 'str'>\n"
          ]
        }
      ]
    },
    {
      "cell_type": "code",
      "metadata": {
        "id": "ijAnBtIHxz19"
      },
      "source": [
        "# swap the values of a and b\n",
        "a = 'city'\n",
        "b= 5"
      ],
      "execution_count": 7,
      "outputs": []
    },
    {
      "cell_type": "code",
      "metadata": {
        "colab": {
          "base_uri": "https://localhost:8080/"
        },
        "id": "J0uBG-xhxz1-",
        "outputId": "2d80896c-dc99-4453-b123-db6124e78991"
      },
      "source": [
        "# run this to confirm \n",
        "print(\"a =\",a,\" , b =\",b)"
      ],
      "execution_count": 12,
      "outputs": [
        {
          "output_type": "stream",
          "name": "stdout",
          "text": [
            "a = city  , b = 5\n"
          ]
        }
      ]
    },
    {
      "cell_type": "markdown",
      "metadata": {
        "id": "pv1Tr4cvxz1_"
      },
      "source": [
        "Cool! so variable declaration and getting it's type was easy."
      ]
    },
    {
      "cell_type": "markdown",
      "metadata": {
        "id": "aTpllZsLxz2A"
      },
      "source": [
        "## Arithmetic Operations"
      ]
    },
    {
      "cell_type": "markdown",
      "metadata": {
        "id": "AriuuQ1Jxz2A"
      },
      "source": [
        "Hey novice! this will be easy for you until you know basic arithmetic symbols like +, -, /, * etc.\n",
        "\n",
        "reference:- https://youtu.be/0-hzxfkpHy8\n",
        "\n",
        "<p style='text-align: right;'> 1 + 7 = 8 points </p>\n"
      ]
    },
    {
      "cell_type": "code",
      "metadata": {
        "colab": {
          "base_uri": "https://localhost:8080/"
        },
        "id": "ueo4WDSxxz2J",
        "outputId": "a7e1e751-7341-40b1-90a9-95c335d6a772"
      },
      "source": [
        "# declare two variables, a = 24, b = 3\n",
        "\n",
        "a = 24\n",
        "b = 3\n",
        "print('a = {}, b = {}'.format(a,b))"
      ],
      "execution_count": 20,
      "outputs": [
        {
          "output_type": "stream",
          "name": "stdout",
          "text": [
            "a = 24, b = 3\n"
          ]
        }
      ]
    },
    {
      "cell_type": "code",
      "metadata": {
        "colab": {
          "base_uri": "https://localhost:8080/"
        },
        "id": "gltsxTMdxz2N",
        "outputId": "e86df056-4b4b-4e5d-8cdb-9a1af41477bc"
      },
      "source": [
        "# calculate and print all the possible numerical operations on a and b (There are total 7 operations)\n",
        "add = a+b\n",
        "print(\"a + b = \", add)\n",
        "diff = a-b\n",
        "print(\"a - b = \" ,diff)\n",
        "mul = a * b\n",
        "print(\"a * b = \" ,mul)\n",
        "div = a / b\n",
        "print(\"a / b = \" ,div)\n",
        "rem = a % b\n",
        "print(\"a % b = \" ,rem)\n",
        "divi = a// b\n",
        "print(\"a // b = \" ,divi)\n",
        "cube = a ** b\n",
        "print(\"a ^ b = \" ,cube)\n"
      ],
      "execution_count": 21,
      "outputs": [
        {
          "output_type": "stream",
          "name": "stdout",
          "text": [
            "a + b =  27\n",
            "a - b =  21\n",
            "a * b =  72\n",
            "a / b =  8.0\n",
            "a % b =  0\n",
            "a // b =  8\n",
            "a ^ b =  13824\n"
          ]
        }
      ]
    },
    {
      "cell_type": "markdown",
      "metadata": {
        "id": "p0MF8fPMxz2O"
      },
      "source": [
        "## Math Functions"
      ]
    },
    {
      "cell_type": "markdown",
      "metadata": {
        "id": "QmZ3tsY1xz2a"
      },
      "source": [
        "Lets do some simple mathematical operations by using math module. Math module contains various mathematical functions. So here we go!\n",
        "\n",
        "Reference:- https://youtu.be/gktjNyV0xks\n",
        "\n",
        "Reference document: https://docs.python.org/3/library/math.html\n",
        "<p style='text-align: right;'> 10 points </p>\n",
        "\n",
        "\n"
      ]
    },
    {
      "cell_type": "code",
      "metadata": {
        "id": "BqPE2iebxz2c"
      },
      "source": [
        "import math"
      ],
      "execution_count": 22,
      "outputs": []
    },
    {
      "cell_type": "code",
      "metadata": {
        "id": "iWz1t17-xz2d"
      },
      "source": [
        "# declare a variable x = 2 and y=5.32167\n",
        "x = 2\n",
        "y = 5.32167"
      ],
      "execution_count": 23,
      "outputs": []
    },
    {
      "cell_type": "code",
      "metadata": {
        "colab": {
          "base_uri": "https://localhost:8080/"
        },
        "id": "e9Su2MZ2xz2e",
        "outputId": "0ac97859-2095-4ae5-ffa7-6841d180f57b"
      },
      "source": [
        "# Print the maximum value between x and y\n",
        "print(max(x,y))"
      ],
      "execution_count": 24,
      "outputs": [
        {
          "output_type": "stream",
          "name": "stdout",
          "text": [
            "5.32167\n"
          ]
        }
      ]
    },
    {
      "cell_type": "code",
      "metadata": {
        "colab": {
          "base_uri": "https://localhost:8080/"
        },
        "id": "JZ_sczPwxz2s",
        "outputId": "f9418965-224e-47cc-da14-c83ec719b53a"
      },
      "source": [
        "# Print the minimum value between x and y\n",
        "print(min(x,y))"
      ],
      "execution_count": 25,
      "outputs": [
        {
          "output_type": "stream",
          "name": "stdout",
          "text": [
            "2\n"
          ]
        }
      ]
    },
    {
      "cell_type": "code",
      "metadata": {
        "colab": {
          "base_uri": "https://localhost:8080/"
        },
        "id": "hoqFOoU5xz2u",
        "outputId": "1b716313-e9b1-4819-872c-2874ee31ecf0"
      },
      "source": [
        "# Print square and cube of x and store in a and b variable\n",
        "a = x*x\n",
        "b = x**3\n",
        "print(a)\n",
        "print(b)"
      ],
      "execution_count": 26,
      "outputs": [
        {
          "output_type": "stream",
          "name": "stdout",
          "text": [
            "4\n",
            "8\n"
          ]
        }
      ]
    },
    {
      "cell_type": "code",
      "metadata": {
        "colab": {
          "base_uri": "https://localhost:8080/"
        },
        "id": "1VY5Te58xz2v",
        "outputId": "d92697d9-d085-406c-f7f1-1465d642ebf3"
      },
      "source": [
        "#print log of x and store it in variable c\n",
        "c= math.log(x)\n",
        "print(c)"
      ],
      "execution_count": 29,
      "outputs": [
        {
          "output_type": "stream",
          "name": "stdout",
          "text": [
            "0.6931471805599453\n"
          ]
        }
      ]
    },
    {
      "cell_type": "code",
      "metadata": {
        "colab": {
          "base_uri": "https://localhost:8080/"
        },
        "id": "OImWyVEoxz3A",
        "outputId": "bbcec71f-0f92-49cb-bf34-a870716aa002"
      },
      "source": [
        "#print minimum value between x,y,a, b and c\n",
        "print(min(x,y,a,b,c))"
      ],
      "execution_count": 30,
      "outputs": [
        {
          "output_type": "stream",
          "name": "stdout",
          "text": [
            "0.6931471805599453\n"
          ]
        }
      ]
    },
    {
      "cell_type": "code",
      "metadata": {
        "colab": {
          "base_uri": "https://localhost:8080/"
        },
        "id": "fujxgrfNxz3l",
        "outputId": "15c946d0-a2d7-40d9-b436-cf08839216a9"
      },
      "source": [
        "#print maximum value between x,y,a, b and c\n",
        "print(max(x,y,a,b,c))"
      ],
      "execution_count": 31,
      "outputs": [
        {
          "output_type": "stream",
          "name": "stdout",
          "text": [
            "8\n"
          ]
        }
      ]
    },
    {
      "cell_type": "code",
      "metadata": {
        "colab": {
          "base_uri": "https://localhost:8080/"
        },
        "id": "4XVqIWaLxz3s",
        "outputId": "7daaabbe-c122-46bc-db90-fe14e3caf6f3"
      },
      "source": [
        "#print the largest integer that is smaller than or equal to c. ie.round down\n",
        "print(math.floor(c))"
      ],
      "execution_count": 33,
      "outputs": [
        {
          "output_type": "stream",
          "name": "stdout",
          "text": [
            "0\n"
          ]
        }
      ]
    },
    {
      "cell_type": "code",
      "metadata": {
        "colab": {
          "base_uri": "https://localhost:8080/"
        },
        "id": "57rtDC_jxz3t",
        "outputId": "fead1a88-d65f-415d-f7ff-52b4e1f91de1"
      },
      "source": [
        "#print the smallest integer that is greater than or equal to c ie. round up\n",
        "print(math.ceil(c))"
      ],
      "execution_count": 35,
      "outputs": [
        {
          "output_type": "stream",
          "name": "stdout",
          "text": [
            "1\n"
          ]
        }
      ]
    },
    {
      "cell_type": "markdown",
      "metadata": {
        "id": "hqyxubisxz3u"
      },
      "source": [
        "## Logical operations\n",
        "\n",
        "You must be aware of some logical operations you did in college, like 'and', 'or', 'not' etc. These operations becomes even more easy to implement when you have friend like python.\n",
        "\n",
        "Reference:- https://youtu.be/9w992l9TFIs\n",
        "\n",
        "<p style='text-align: right;'> 1 + 1 + 1 + 6 = 9 points </p>\n"
      ]
    },
    {
      "cell_type": "code",
      "metadata": {
        "colab": {
          "base_uri": "https://localhost:8080/"
        },
        "id": "l6hmVLOgxz3v",
        "outputId": "65c96b16-4b99-4827-ee1d-a6ab360aa8cd"
      },
      "source": [
        "# declare two variables, a = True, b = False\n",
        "a = True\n",
        "b = False\n",
        "print(a)\n",
        "print(b)"
      ],
      "execution_count": 36,
      "outputs": [
        {
          "output_type": "stream",
          "name": "stdout",
          "text": [
            "True\n",
            "False\n"
          ]
        }
      ]
    },
    {
      "cell_type": "code",
      "metadata": {
        "colab": {
          "base_uri": "https://localhost:8080/"
        },
        "id": "6YzdRjDqxz3w",
        "outputId": "614b5187-2036-4d56-b5a8-325f820127c0"
      },
      "source": [
        "# print type of a and type of b\n",
        "print(type(a))\n",
        "print(type(b))"
      ],
      "execution_count": 37,
      "outputs": [
        {
          "output_type": "stream",
          "name": "stdout",
          "text": [
            "<class 'bool'>\n",
            "<class 'bool'>\n"
          ]
        }
      ]
    },
    {
      "cell_type": "markdown",
      "metadata": {
        "id": "uGKVCsRKxz3y"
      },
      "source": [
        "A fun fact for you !\n",
        "The Python Boolean type is one of Python's built-in data types. It's used to represent the truth value of an expression"
      ]
    },
    {
      "cell_type": "code",
      "metadata": {
        "colab": {
          "base_uri": "https://localhost:8080/"
        },
        "id": "BgMnhfshxz3z",
        "outputId": "d0433534-811c-4889-961b-34ec0ad2cf46"
      },
      "source": [
        "# print int(a) and int(b)\n",
        "print(\"int of a is\", int(a))\n",
        "print(\"int of b is\", int(b))"
      ],
      "execution_count": 38,
      "outputs": [
        {
          "output_type": "stream",
          "name": "stdout",
          "text": [
            "int of a is 1\n",
            "int of b is 0\n"
          ]
        }
      ]
    },
    {
      "cell_type": "markdown",
      "metadata": {
        "id": "MHbH2Xu0xz30"
      },
      "source": [
        "We are sure you must have seen that, values for 'True' is 1 and for 'False' is 0."
      ]
    },
    {
      "cell_type": "code",
      "metadata": {
        "colab": {
          "base_uri": "https://localhost:8080/"
        },
        "id": "tTyZwNhqxz30",
        "outputId": "79292420-f5d2-47fd-d8af-3e5c4661e333"
      },
      "source": [
        "# Find and print the values of not a, not b, a and b, a or b, a and not b\n",
        "print(\"not a = \",not(a))\n",
        "print(\"not b = \",not(b))\n",
        "print(\"a and b = \", a and b)\n",
        "print(\"a or b = \", a or b)\n",
        "print(\"a and not b = \",a and not(b))"
      ],
      "execution_count": 39,
      "outputs": [
        {
          "output_type": "stream",
          "name": "stdout",
          "text": [
            "not a =  False\n",
            "not b =  True\n",
            "a and b =  False\n",
            "a or b =  True\n",
            "a and not b =  True\n"
          ]
        }
      ]
    },
    {
      "cell_type": "markdown",
      "metadata": {
        "id": "U5d6wnz9xz32"
      },
      "source": [
        "We hope you tried to undertand the above output! "
      ]
    },
    {
      "cell_type": "markdown",
      "metadata": {
        "id": "ArsxhATYxz32"
      },
      "source": [
        "## List Comprehensions\n",
        "\n",
        "Hey buddy! Python has really amazing thing called list comprehension. List comprehension offers a shorter syntax when you want to create a new list based on the values of an existing list. Cool right? Let's dive into this more by doing it. \n",
        "\n",
        "Reference:- https://youtu.be/17gTGqHG5xQ\n",
        "\n",
        "<p style='text-align: right;'> 10 + 10 + 10= 30 points </p>\n",
        "\n"
      ]
    },
    {
      "cell_type": "code",
      "metadata": {
        "colab": {
          "base_uri": "https://localhost:8080/"
        },
        "id": "8KVanGaVxz38",
        "outputId": "52ae49f5-f56d-4010-bec8-73ea6ef42761"
      },
      "source": [
        "# Using list comprehension, create a list containing numbers from 1 to 20. \n",
        "# Hint: You can use range function of python to do this.\n",
        "list_comp = [i for i in range(1,21)]\n",
        "print(list_comp)"
      ],
      "execution_count": 43,
      "outputs": [
        {
          "output_type": "stream",
          "name": "stdout",
          "text": [
            "[1, 2, 3, 4, 5, 6, 7, 8, 9, 10, 11, 12, 13, 14, 15, 16, 17, 18, 19, 20]\n"
          ]
        }
      ]
    },
    {
      "cell_type": "code",
      "metadata": {
        "colab": {
          "base_uri": "https://localhost:8080/"
        },
        "id": "_JwJlpLmxz39",
        "outputId": "4a575b41-b10f-40a3-cca3-150133dbbcf0"
      },
      "source": [
        "# Using list comprehension, create a list containing numbers from 1 to 20 that are even\n",
        "even_comp = [x for x in range(1,21) if x%2 == 0]\n",
        "print(even_comp)"
      ],
      "execution_count": 44,
      "outputs": [
        {
          "output_type": "stream",
          "name": "stdout",
          "text": [
            "[2, 4, 6, 8, 10, 12, 14, 16, 18, 20]\n"
          ]
        }
      ]
    },
    {
      "cell_type": "markdown",
      "metadata": {
        "id": "AVGt9JH1xz3-"
      },
      "source": [
        "Create a list of all the fruits you like. Using list comprehension, create another list which contains the total number of charachters for each corresponding fruits.\n",
        "- Eg. fruits = [‘apple’,’kiwi’,’orange’], then output would be - [5,4,6]\n"
      ]
    },
    {
      "cell_type": "code",
      "metadata": {
        "colab": {
          "base_uri": "https://localhost:8080/"
        },
        "id": "Irjy_rYfxz3_",
        "outputId": "4ba427cd-0b35-4307-cab7-0ac2212f721f"
      },
      "source": [
        "fruits = ['banana', 'cherry' ,'avocado','apple']\n",
        "len_fruits =  [len(x) for x in fruits]\n",
        "\n",
        "print(fruits)\n",
        "print(len_fruits)"
      ],
      "execution_count": 48,
      "outputs": [
        {
          "output_type": "stream",
          "name": "stdout",
          "text": [
            "['banana', 'cherry', 'avocado', 'apple']\n",
            "[6, 6, 7, 5]\n"
          ]
        }
      ]
    },
    {
      "cell_type": "markdown",
      "metadata": {
        "id": "_-areA8jxz4A"
      },
      "source": [
        "The above output is shown if fruits = ['apple','kiwi,'orange'], it can vary for different values of fruits\n",
        "\n",
        "Amazing right?\n"
      ]
    },
    {
      "cell_type": "markdown",
      "metadata": {
        "id": "VFvFMqD0xz4F"
      },
      "source": [
        "## String value and operators\n",
        "\n",
        "<p style='text-align: right;'> 1 + 1 + 1 + 1 + 1 = 5 points </p>\n"
      ]
    },
    {
      "cell_type": "markdown",
      "metadata": {
        "id": "PHqASttCxz4F"
      },
      "source": [
        "### Characters in strings\n",
        "\n",
        "\n",
        "Reference:- https://www.programiz.com/python-programming/string\n",
        "\n",
        "Reference:-  https://youtu.be/LnQDWIMaJlA\n"
      ]
    },
    {
      "cell_type": "code",
      "metadata": {
        "colab": {
          "base_uri": "https://localhost:8080/"
        },
        "id": "7d_XgfSyxz4G",
        "outputId": "dd499f7d-2390-4932-995c-7996308a74e4"
      },
      "source": [
        "# declare the variables x = cat and y = dog and print it\n",
        "x = \"cat\"\n",
        "y = \"dog\"\n",
        "\n",
        "print(x)\n",
        "print(y)"
      ],
      "execution_count": 50,
      "outputs": [
        {
          "output_type": "stream",
          "name": "stdout",
          "text": [
            "cat\n",
            "dog\n"
          ]
        }
      ]
    },
    {
      "cell_type": "code",
      "metadata": {
        "colab": {
          "base_uri": "https://localhost:8080/"
        },
        "id": "XM6lN0q1xz4H",
        "outputId": "42aca368-a1f1-4161-b3f0-6854ecf0f031"
      },
      "source": [
        "#Print first character of both x and y. \n",
        "print(\"First ch of x =\",x[0])\n",
        "print(\"First ch of y =\",y[0])"
      ],
      "execution_count": 55,
      "outputs": [
        {
          "output_type": "stream",
          "name": "stdout",
          "text": [
            "First ch of x = c\n",
            "First ch of y = d\n"
          ]
        }
      ]
    },
    {
      "cell_type": "code",
      "metadata": {
        "colab": {
          "base_uri": "https://localhost:8080/"
        },
        "id": "rTx5msHLxz4O",
        "outputId": "d24a0219-cfec-4576-ea24-91b2586abaf3"
      },
      "source": [
        "#Print last character of both x and y.\n",
        "print(\"Last ch of x =\",x[-1])\n",
        "print(\"Last ch of y =\",y[-1])"
      ],
      "execution_count": 56,
      "outputs": [
        {
          "output_type": "stream",
          "name": "stdout",
          "text": [
            "Last ch of x = t\n",
            "Last ch of y = g\n"
          ]
        }
      ]
    },
    {
      "cell_type": "code",
      "metadata": {
        "colab": {
          "base_uri": "https://localhost:8080/"
        },
        "id": "_pmrABDbxz4P",
        "outputId": "e68df795-68a5-4875-91bb-495d7697b42f"
      },
      "source": [
        "#Print len of both x and y\n",
        "print(\"Length of x is =\",len(x))\n",
        "print(\"Length of y is =\",len(y))"
      ],
      "execution_count": 58,
      "outputs": [
        {
          "output_type": "stream",
          "name": "stdout",
          "text": [
            "Length of x is = 3\n",
            "Length of y is = 3\n"
          ]
        }
      ]
    },
    {
      "cell_type": "code",
      "metadata": {
        "colab": {
          "base_uri": "https://localhost:8080/"
        },
        "id": "o4Fd9etjxz4Q",
        "outputId": "7050b9ef-ce4f-47ce-d5d1-3a06cb94a93c"
      },
      "source": [
        "#concatenate both x and y and store it in variable z and print z\n",
        "z = x+y\n",
        "print(z)"
      ],
      "execution_count": 59,
      "outputs": [
        {
          "output_type": "stream",
          "name": "stdout",
          "text": [
            "catdog\n"
          ]
        }
      ]
    },
    {
      "cell_type": "code",
      "metadata": {
        "colab": {
          "base_uri": "https://localhost:8080/"
        },
        "id": "f5CgP4lExz4g",
        "outputId": "34b1c359-c924-4f6d-e21d-5547134d5349"
      },
      "source": [
        "#check if x is part of z \n",
        "flag  = x in z\n",
        "print(flag)"
      ],
      "execution_count": 60,
      "outputs": [
        {
          "output_type": "stream",
          "name": "stdout",
          "text": [
            "True\n"
          ]
        }
      ]
    },
    {
      "cell_type": "markdown",
      "metadata": {
        "id": "SQr7G5Fxxz4h"
      },
      "source": [
        "### String slicing\n",
        "\n",
        "\n",
        "\n",
        "Hey coder, do you know? Python slicing is about obtaining a sub-string from the given string by slicing it respectively from start to end\n",
        "\n",
        "So be ready to implement it today!\n",
        "<p style='text-align: right;'> 2 points </p>"
      ]
    },
    {
      "cell_type": "code",
      "metadata": {
        "colab": {
          "base_uri": "https://localhost:8080/"
        },
        "id": "QMiJRi1Exz4s",
        "outputId": "7524be4c-6fd1-412a-c15a-e3a8e5dd17dd"
      },
      "source": [
        "#Create variable a = “pineapple”\n",
        "a = \"pineapple\"\n",
        "print(a)"
      ],
      "execution_count": 62,
      "outputs": [
        {
          "output_type": "stream",
          "name": "stdout",
          "text": [
            "pineapple\n"
          ]
        }
      ]
    },
    {
      "cell_type": "code",
      "metadata": {
        "colab": {
          "base_uri": "https://localhost:8080/"
        },
        "id": "zYHB30nexz4t",
        "outputId": "8f69e5f1-cc36-46cc-9d23-0037d3dae870"
      },
      "source": [
        "# Using index slicing, print the words ‘pine’ and “apple”.\n",
        "# HINT - a[:]\n",
        "print(a[:4])\n",
        "print(a[4:])"
      ],
      "execution_count": 63,
      "outputs": [
        {
          "output_type": "stream",
          "name": "stdout",
          "text": [
            "pine\n",
            "apple\n"
          ]
        }
      ]
    },
    {
      "cell_type": "code",
      "metadata": {
        "colab": {
          "base_uri": "https://localhost:8080/"
        },
        "id": "sD4hEq3vxz4u",
        "outputId": "30775371-fa4e-4d56-a080-208f49b665cb"
      },
      "source": [
        "#Convert a into upper case\n",
        "print(a.upper())"
      ],
      "execution_count": 64,
      "outputs": [
        {
          "output_type": "stream",
          "name": "stdout",
          "text": [
            "PINEAPPLE\n"
          ]
        }
      ]
    },
    {
      "cell_type": "markdown",
      "metadata": {
        "id": "rtv7e3I-xz44"
      },
      "source": [
        "## Dealing with Sentences\n",
        "\n",
        "<p style='text-align: right;'> 1+1+1+1+1+1 = 6 points </p>\n"
      ]
    },
    {
      "cell_type": "code",
      "metadata": {
        "colab": {
          "base_uri": "https://localhost:8080/"
        },
        "id": "MKyu_zE5xz45",
        "outputId": "cac9ef36-468a-4621-a519-be28e98b2247"
      },
      "source": [
        "# Declare a sentence of ‘I am flying to London’ and print it\n",
        "sen = \"I am flying to London\"\n",
        "print(sen)"
      ],
      "execution_count": 68,
      "outputs": [
        {
          "output_type": "stream",
          "name": "stdout",
          "text": [
            "I am flying to London\n"
          ]
        }
      ]
    },
    {
      "cell_type": "code",
      "metadata": {
        "colab": {
          "base_uri": "https://localhost:8080/"
        },
        "id": "GkjKKuaExz5A",
        "outputId": "b9ca74ed-c4c9-4cef-a654-bc3cd35299bc"
      },
      "source": [
        "#Print length of the sentence\n",
        "print(\"Len of sentence is\",len(sen))"
      ],
      "execution_count": 69,
      "outputs": [
        {
          "output_type": "stream",
          "name": "stdout",
          "text": [
            "Len of sentence is 21\n"
          ]
        }
      ]
    },
    {
      "cell_type": "code",
      "metadata": {
        "colab": {
          "base_uri": "https://localhost:8080/"
        },
        "id": "r91wTaTYxz5B",
        "outputId": "1aaee951-f507-4247-cccb-fa7c5ea3c05b"
      },
      "source": [
        "#Using list indexing, to print the word London\n",
        "print(sen[15:])"
      ],
      "execution_count": 70,
      "outputs": [
        {
          "output_type": "stream",
          "name": "stdout",
          "text": [
            "London\n"
          ]
        }
      ]
    },
    {
      "cell_type": "code",
      "metadata": {
        "colab": {
          "base_uri": "https://localhost:8080/"
        },
        "id": "lhYt5ywYxz5C",
        "outputId": "26828022-ceae-4279-9213-8bf219498f33"
      },
      "source": [
        "# Use .split to get list of individual words in the sentence\n",
        "sp = sen.split()\n",
        "print(sp)"
      ],
      "execution_count": 72,
      "outputs": [
        {
          "output_type": "stream",
          "name": "stdout",
          "text": [
            "['I', 'am', 'flying', 'to', 'London']\n"
          ]
        }
      ]
    },
    {
      "cell_type": "code",
      "metadata": {
        "colab": {
          "base_uri": "https://localhost:8080/"
        },
        "id": "8KlI4mqXxz5D",
        "outputId": "0df8f32a-632c-4fdf-95ab-dd00be07d4eb"
      },
      "source": [
        "# Convert sentence in lower case \n",
        "print(sen.lower())"
      ],
      "execution_count": 73,
      "outputs": [
        {
          "output_type": "stream",
          "name": "stdout",
          "text": [
            "i am flying to london\n"
          ]
        }
      ]
    },
    {
      "cell_type": "code",
      "metadata": {
        "colab": {
          "base_uri": "https://localhost:8080/"
        },
        "id": "X-biiDclxz5E",
        "outputId": "877aa142-dc3a-4e8b-ad80-13d1b67c48d4"
      },
      "source": [
        "# Convert sentence in upper case .\n",
        "print(sen.upper())"
      ],
      "execution_count": 74,
      "outputs": [
        {
          "output_type": "stream",
          "name": "stdout",
          "text": [
            "I AM FLYING TO LONDON\n"
          ]
        }
      ]
    },
    {
      "cell_type": "markdown",
      "metadata": {
        "id": "xzY7GJ-rxz5F"
      },
      "source": [
        "Great job! Slicing is fun."
      ]
    },
    {
      "cell_type": "markdown",
      "metadata": {
        "id": "GH-yh-zMxz5G"
      },
      "source": [
        "## Functions\n",
        "\n",
        "Declare a function named square, which takes an input as x, and returns the square of x.\n",
        "\n",
        "Reference:- https://youtu.be/Rpq9MC67M08\n",
        "\n",
        "<p style='text-align: right;'> 5 + 3 = 8 points </p>\n"
      ]
    },
    {
      "cell_type": "code",
      "metadata": {
        "id": "YlDKIi8Uxz5H"
      },
      "source": [
        "def square(x):\n",
        "  x= x**2\n",
        "  return(x)\n",
        "    "
      ],
      "execution_count": 76,
      "outputs": []
    },
    {
      "cell_type": "markdown",
      "metadata": {
        "id": "106HV4hkxz5R"
      },
      "source": [
        "Call the function to find the value of square of 9."
      ]
    },
    {
      "cell_type": "code",
      "metadata": {
        "colab": {
          "base_uri": "https://localhost:8080/"
        },
        "id": "CAnNLNv_xz5T",
        "outputId": "79d6b205-0ef2-4844-8d2e-616b05eb9f1f"
      },
      "source": [
        "# find the square of 9 using the function square you have just created.\n",
        "print(\"Square of 9 is\",square(9))"
      ],
      "execution_count": 77,
      "outputs": [
        {
          "output_type": "stream",
          "name": "stdout",
          "text": [
            "Square of 9 is 81\n"
          ]
        }
      ]
    },
    {
      "cell_type": "markdown",
      "metadata": {
        "id": "FzHzZ_pUxz5W"
      },
      "source": [
        "Wohoo! see, defining function was simple"
      ]
    },
    {
      "cell_type": "markdown",
      "metadata": {
        "id": "6cnbBDHLxz5Y"
      },
      "source": [
        "#### Define another function which checks whether a given is number is odd or even for a given input and it should print whether the  number is odd or even as an output\n",
        "<p style='text-align: right;'> 5 + 3 = 8 points </p>\n"
      ]
    },
    {
      "cell_type": "code",
      "metadata": {
        "colab": {
          "base_uri": "https://localhost:8080/"
        },
        "id": "eBe5Ni5Dxz5g",
        "outputId": "d57627dd-d560-432a-8c5c-e0243e9723e7"
      },
      "source": [
        "# your code here\n",
        "def check_Even_Odd(num):\n",
        "  if(num %2 == 0):\n",
        "    return(\"{} is even\".format(num))\n",
        "  else:\n",
        "    return (\"{} is odd\".format(num))\n",
        "print(check_Even_Odd(7))"
      ],
      "execution_count": 80,
      "outputs": [
        {
          "output_type": "stream",
          "name": "stdout",
          "text": [
            "7 is odd\n"
          ]
        }
      ]
    },
    {
      "cell_type": "markdown",
      "metadata": {
        "id": "e37Xqp0nxz5g"
      },
      "source": [
        "Hey smarty! lets use both the functions together to check whether the square of 3,6 and 21 are odd or even.\n"
      ]
    },
    {
      "cell_type": "code",
      "metadata": {
        "colab": {
          "base_uri": "https://localhost:8080/"
        },
        "id": "fwCs0eAnxz5h",
        "outputId": "0d01aa37-7561-427c-9a63-f111ce6add67"
      },
      "source": [
        " # your code here\n",
        "ans_1 = check_Even_Odd(square(3))\n",
        "ans_2 = check_Even_Odd(square(6))\n",
        "ans_3 = check_Even_Odd(square(21))\n",
        "print(ans_1)\n",
        "print(ans_2)\n",
        "print(ans_3)"
      ],
      "execution_count": 82,
      "outputs": [
        {
          "output_type": "stream",
          "name": "stdout",
          "text": [
            "9 is odd\n",
            "36 is even\n",
            "441 is odd\n"
          ]
        }
      ]
    },
    {
      "cell_type": "markdown",
      "metadata": {
        "id": "3d4AJmVKxz5i"
      },
      "source": [
        "hey hey! You did a great code. Did you see the benefit of using functions"
      ]
    },
    {
      "cell_type": "markdown",
      "metadata": {
        "id": "DFjLly-exz5j"
      },
      "source": [
        "# Loops and Iterations\n",
        "Reference:- https://youtu.be/6iF8Xb7Z3wQ"
      ]
    },
    {
      "cell_type": "markdown",
      "metadata": {
        "id": "uqZxBPH6xz5k"
      },
      "source": [
        "## If statement\n",
        "\n",
        "<p style='text-align: right;'> 1 + 2 + 3 = 6 points </p>\n"
      ]
    },
    {
      "cell_type": "code",
      "metadata": {
        "colab": {
          "base_uri": "https://localhost:8080/"
        },
        "id": "SX0agdUfxz5l",
        "outputId": "9e2d3444-5c6f-49c2-f7ee-d45254334071"
      },
      "source": [
        "#Declare a variable x equal to a number of your choice.\n",
        "#your code here\n",
        "x =  4\n",
        "print(x)"
      ],
      "execution_count": 83,
      "outputs": [
        {
          "output_type": "stream",
          "name": "stdout",
          "text": [
            "4\n"
          ]
        }
      ]
    },
    {
      "cell_type": "code",
      "metadata": {
        "colab": {
          "base_uri": "https://localhost:8080/"
        },
        "id": "HAiUdSn8xz5m",
        "outputId": "7e748ae5-da98-4f66-de5b-58d126eef82c"
      },
      "source": [
        "#Using an if statement, print whether x is zero, positive or negative.\n",
        "if( x>0):\n",
        "  print(x,\"is positive\")\n",
        "else:\n",
        "  print(x,\"is negative\")"
      ],
      "execution_count": 86,
      "outputs": [
        {
          "output_type": "stream",
          "name": "stdout",
          "text": [
            "4 is positive\n"
          ]
        }
      ]
    },
    {
      "cell_type": "code",
      "metadata": {
        "colab": {
          "base_uri": "https://localhost:8080/"
        },
        "id": "m3d7cqM6xz5n",
        "outputId": "14c6056f-766d-4e20-e36c-63394563e810"
      },
      "source": [
        "# Now Define a function, which takes input from the user and prints whether the given input is zero,positive or negative.\n",
        "def check_num(num):\n",
        "  if( num > 0):\n",
        "    print(num,\"is positive\")\n",
        "  else:\n",
        "    print(num,\"is negative\")\n",
        "\n",
        "check_num(10)\n",
        "check_num(-2)\n",
        "check_num(0)"
      ],
      "execution_count": 87,
      "outputs": [
        {
          "output_type": "stream",
          "name": "stdout",
          "text": [
            "10 is positive\n",
            "-2 is negative\n",
            "0 is negative\n"
          ]
        }
      ]
    },
    {
      "cell_type": "markdown",
      "metadata": {
        "id": "tEiKqNRIxz5o"
      },
      "source": [
        "## For loop"
      ]
    },
    {
      "cell_type": "markdown",
      "metadata": {
        "id": "f0c4m6SAxz5o"
      },
      "source": [
        "<p style='text-align: right;'> 2 points </p>\n"
      ]
    },
    {
      "cell_type": "code",
      "metadata": {
        "id": "9qNgJOpkxz5p"
      },
      "source": [
        "#Create a list x, such that it contains the elements - ‘India’, ‘Israel’,’Canada’.\n",
        "x = [\"India\" ,\"Isreal\" ,\"Canada\"]"
      ],
      "execution_count": 88,
      "outputs": []
    },
    {
      "cell_type": "code",
      "metadata": {
        "colab": {
          "base_uri": "https://localhost:8080/"
        },
        "id": "LN6HKMnYxz5q",
        "outputId": "deb1f928-f0ed-4daa-c8ab-8646744105c5"
      },
      "source": [
        "#Using For loop, iterate over the list and print the elements.\n",
        "for i in x:\n",
        "  print(i)"
      ],
      "execution_count": 89,
      "outputs": [
        {
          "output_type": "stream",
          "name": "stdout",
          "text": [
            "India\n",
            "Isreal\n",
            "Canada\n"
          ]
        }
      ]
    },
    {
      "cell_type": "markdown",
      "metadata": {
        "id": "-YtuyN9sxz5r"
      },
      "source": [
        "<p style='text-align: right;'> 2 points </p>\n"
      ]
    },
    {
      "cell_type": "code",
      "metadata": {
        "colab": {
          "base_uri": "https://localhost:8080/"
        },
        "id": "3aZpGEbTxz52",
        "outputId": "8d332419-7a48-415f-92c9-c5ed11129099"
      },
      "source": [
        "# Using For loop, print the table of 2.\n",
        "mul =0\n",
        "for i in range(2,11):\n",
        "  mul = 2*i\n",
        "  print(\"2 *{} = {}\".format(i,mul))"
      ],
      "execution_count": 90,
      "outputs": [
        {
          "output_type": "stream",
          "name": "stdout",
          "text": [
            "2 *2 = 4\n",
            "2 *3 = 6\n",
            "2 *4 = 8\n",
            "2 *5 = 10\n",
            "2 *6 = 12\n",
            "2 *7 = 14\n",
            "2 *8 = 16\n",
            "2 *9 = 18\n",
            "2 *10 = 20\n"
          ]
        }
      ]
    },
    {
      "cell_type": "markdown",
      "metadata": {
        "id": "UCuFOATvxz52"
      },
      "source": [
        "For a given list, x = [21, ‘hello,’cream’, 20,19,’village’], using for loop to iterate over the items and using - if statement print the items that are of type int"
      ]
    },
    {
      "cell_type": "code",
      "metadata": {
        "colab": {
          "base_uri": "https://localhost:8080/"
        },
        "id": "MPHA10c4xz53",
        "outputId": "c24c6216-94e8-4822-fdc7-f057c052d0c3"
      },
      "source": [
        "#code here\n",
        "x = [21,\"hello\",\"cream\",20,19,\"village\"]\n",
        "ls = []\n",
        "for i in x:\n",
        "  if(type(i) == int):\n",
        "    ls.append(i)\n",
        "print(ls)"
      ],
      "execution_count": 102,
      "outputs": [
        {
          "output_type": "stream",
          "name": "stdout",
          "text": [
            "[21, 20, 19]\n"
          ]
        }
      ]
    },
    {
      "cell_type": "markdown",
      "metadata": {
        "id": "OKamTJ1_xz54"
      },
      "source": [
        "Using For loop, lets create a pattern. "
      ]
    },
    {
      "cell_type": "markdown",
      "metadata": {
        "id": "LpeHJxGJxz55"
      },
      "source": [
        "<p style='text-align: right;'> 10 points </p>\n"
      ]
    },
    {
      "cell_type": "code",
      "metadata": {
        "colab": {
          "base_uri": "https://localhost:8080/"
        },
        "id": "iaWiTAUkxz58",
        "outputId": "3e4c209c-cc05-4358-d42c-977ecef47f3a"
      },
      "source": [
        "# print the following pattern\n",
        "for i in range(0,5):\n",
        "  for j in range(i+1):\n",
        "    print(\"*\", end= \"\")\n",
        "  print()\n",
        "  "
      ],
      "execution_count": 9,
      "outputs": [
        {
          "output_type": "stream",
          "name": "stdout",
          "text": [
            "*\n",
            "**\n",
            "***\n",
            "****\n",
            "*****\n"
          ]
        }
      ]
    },
    {
      "cell_type": "markdown",
      "metadata": {
        "id": "y5an6cRcxz5_"
      },
      "source": [
        "## While loop"
      ]
    },
    {
      "cell_type": "markdown",
      "metadata": {
        "id": "N9Uf8dUhxz6m"
      },
      "source": [
        "- Using while loop make a function that prints all the values between 1 to n. "
      ]
    },
    {
      "cell_type": "markdown",
      "metadata": {
        "id": "an9Dq-NAxz6n"
      },
      "source": [
        "<p style='text-align: right;'> 10 points </p>\n"
      ]
    },
    {
      "cell_type": "code",
      "metadata": {
        "id": "BqDZbC7Rxz6n"
      },
      "source": [
        "def counter(n):\n",
        " # add your code here\n",
        " i=1\n",
        " while(i<10):\n",
        "   print(i)\n",
        "   i=i+1\n",
        "    "
      ],
      "execution_count": 19,
      "outputs": []
    },
    {
      "cell_type": "code",
      "metadata": {
        "colab": {
          "base_uri": "https://localhost:8080/"
        },
        "id": "UHbblQUdxz6q",
        "outputId": "11d142de-b436-4a46-d833-971a3bb1135e"
      },
      "source": [
        "counter(10) #this should print numbers from 1 to 10"
      ],
      "execution_count": 20,
      "outputs": [
        {
          "output_type": "stream",
          "name": "stdout",
          "text": [
            "1\n",
            "2\n",
            "3\n",
            "4\n",
            "5\n",
            "6\n",
            "7\n",
            "8\n",
            "9\n"
          ]
        }
      ]
    },
    {
      "cell_type": "markdown",
      "metadata": {
        "id": "kmgEeyCIxz6r"
      },
      "source": [
        "### Write the code for the following, what is the output obtained?\n",
        "- Set a variable flag = True, num = 5\n",
        "- Run a while loop till flag = True\n",
        "- Inside the while loop - \n",
        "    - Increment the value of num by 5\n",
        "    - If value of num is greater then 50, set flag to be False"
      ]
    },
    {
      "cell_type": "code",
      "metadata": {
        "colab": {
          "base_uri": "https://localhost:8080/"
        },
        "id": "gapzVNmQxz6s",
        "outputId": "6ea03638-bbd4-43d3-b382-5d70d360fbbb"
      },
      "source": [
        "# your code here\n",
        "flag = True \n",
        "num =5\n",
        "while(flag):\n",
        "  print(num)\n",
        "  num+=5\n",
        "  if(num>50):\n",
        "    flag = False\n",
        "    break\n",
        "  "
      ],
      "execution_count": 23,
      "outputs": [
        {
          "output_type": "stream",
          "name": "stdout",
          "text": [
            "5\n",
            "10\n",
            "15\n",
            "20\n",
            "25\n",
            "30\n",
            "35\n",
            "40\n",
            "45\n",
            "50\n"
          ]
        }
      ]
    },
    {
      "cell_type": "markdown",
      "metadata": {
        "id": "gkiI0iksxz6t"
      },
      "source": [
        "Awsesome! Great job so far. Hope you fell in love with python now."
      ]
    },
    {
      "cell_type": "markdown",
      "metadata": {
        "id": "eW7j6VJnxz6x"
      },
      "source": [
        "----------------------------------------------------------------------"
      ]
    },
    {
      "cell_type": "markdown",
      "metadata": {
        "id": "ToyYED5Exz6x"
      },
      "source": [
        "# Smile, you completed the first milestone :)!! "
      ]
    },
    {
      "cell_type": "markdown",
      "metadata": {
        "id": "_z0EgjWaxz6y"
      },
      "source": [
        "# Its Feedback Time!\n",
        "\n",
        "We hope you’ve enjoyed this course so far. We’re committed to help you use \"AI for All\" course to its full potential, so that you have a great learning experience. And that’s why we need your help in form of a feedback here.\n",
        "\n",
        "**Please fill this feedback form**\n",
        " https://zfrmz.in/MtRG5oWXBdesm6rmSM7N\n",
        " \n",
        "-------------------------------------\n",
        " "
      ]
    }
  ]
}